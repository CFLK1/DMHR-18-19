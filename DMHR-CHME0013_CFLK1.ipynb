{
 "cells": [
  {
   "cell_type": "markdown",
   "metadata": {},
   "source": [
    "# Data Methods for Health Research Assignment\n",
    "\n",
    "- Candidate: CFLK1\n",
    "- Github URL: https://github.com/CFLK1/DMHR-18-19/blob/master/DMHR-CHME0013_CFLK1.ipynb"
   ]
  },
  {
   "cell_type": "code",
   "execution_count": 1,
   "metadata": {},
   "outputs": [],
   "source": [
    "# import necessary libraries for the whole assignment\n",
    "import pandas as pd\n",
    "import numpy as np\n",
    "from math import floor\n",
    "from scipy.stats import norm\n",
    "\n",
    "%matplotlib inline\n",
    "import matplotlib.pyplot as plt"
   ]
  },
  {
   "cell_type": "markdown",
   "metadata": {},
   "source": [
    "## Assignment A"
   ]
  },
  {
   "cell_type": "code",
   "execution_count": 2,
   "metadata": {},
   "outputs": [],
   "source": [
    "# Import all the files needed in Assignment A\n",
    "\n",
    "# Import \"prescription data\" file as data frame\n",
    "prescribe_cols = [\"sha\", \"pct\", \"prac_code\", \"bnf_code\", \"bnf_name\", \"items\", \"nic\", \"act_cost\", \"quantity\", \"period\"]\n",
    "prescribe_apr2018 = pd.read_csv(\"C:/UCL_DMHR/T201804PDPI+BNFT.csv\", skiprows=1, names=prescribe_cols, index_col=False)\n",
    "\n",
    "# Import \"code, names, address\" file as data frame\n",
    "address_cols = [\"period\", \"prac_code\", \"prac_name\", \"prac_org\", \"street\", \"city\", \"area\", \"postcode\"]\n",
    "address_apr2018 = pd.read_csv(\"C:/UCL_DMHR/T201804ADDR+BNFT.csv\", names=address_cols, index_col=False)\n",
    "# The address recording format is inconsistent, be careful when slicing\n",
    "\n",
    "# Import \"BNF code up to #8&9 (chemical substance), chemical name\" file as data frame\n",
    "chemical_cols = [\"bnf_chem_sub\", \"chem_name\"]\n",
    "chemical_apr2018 = pd.read_csv(\"C:/UCL_DMHR/T201804CHEM+SUBS.csv\", skiprows=1, names=chemical_cols,\\\n",
    "                               index_col=False).rename(columns=lambda x: x.strip())\n",
    "\n",
    "# Import \"patient data\" file as data frame\n",
    "patient_cols = [\"publication\", \"extract_date\", \"type\", \"ccg_code\", \"ons_ccg_code\", \"prac_code\", \"postcode\", \"sex\", \"age\",\\\n",
    "                \"npatients\"]\n",
    "patient_apr2018 = pd.read_csv(\"C:/UCL_DMHR/gp-reg-pat-prac-all.csv\", skiprows=1, names=patient_cols, index_col=False)"
   ]
  },
  {
   "cell_type": "code",
   "execution_count": 3,
   "metadata": {
    "scrolled": false
   },
   "outputs": [
    {
     "name": "stdout",
     "output_type": "stream",
     "text": [
      "<class 'pandas.core.frame.DataFrame'>\n",
      "RangeIndex: 9748354 entries, 0 to 9748353\n",
      "Data columns (total 10 columns):\n",
      "sha          object\n",
      "pct          object\n",
      "prac_code    object\n",
      "bnf_code     object\n",
      "bnf_name     object\n",
      "items        int64\n",
      "nic          float64\n",
      "act_cost     float64\n",
      "quantity     int64\n",
      "period       int64\n",
      "dtypes: float64(2), int64(3), object(5)\n",
      "memory usage: 743.7+ MB\n",
      "None\n",
      "<class 'pandas.core.frame.DataFrame'>\n",
      "RangeIndex: 9578 entries, 0 to 9577\n",
      "Data columns (total 8 columns):\n",
      "period       9578 non-null int64\n",
      "prac_code    9578 non-null object\n",
      "prac_name    9578 non-null object\n",
      "prac_org     9578 non-null object\n",
      "street       9578 non-null object\n",
      "city         9578 non-null object\n",
      "area         9578 non-null object\n",
      "postcode     9578 non-null object\n",
      "dtypes: int64(1), object(7)\n",
      "memory usage: 598.7+ KB\n",
      "None\n",
      "<class 'pandas.core.frame.DataFrame'>\n",
      "RangeIndex: 3496 entries, 0 to 3495\n",
      "Data columns (total 2 columns):\n",
      "bnf_chem_sub    3496 non-null object\n",
      "chem_name       3496 non-null object\n",
      "dtypes: object(2)\n",
      "memory usage: 54.7+ KB\n",
      "None\n",
      "<class 'pandas.core.frame.DataFrame'>\n",
      "RangeIndex: 7241 entries, 0 to 7240\n",
      "Data columns (total 10 columns):\n",
      "publication     7241 non-null object\n",
      "extract_date    7241 non-null object\n",
      "type            7241 non-null object\n",
      "ccg_code        7241 non-null object\n",
      "ons_ccg_code    7241 non-null object\n",
      "prac_code       7241 non-null object\n",
      "postcode        7241 non-null object\n",
      "sex             7241 non-null object\n",
      "age             7241 non-null object\n",
      "npatients       7241 non-null int64\n",
      "dtypes: int64(1), object(9)\n",
      "memory usage: 565.8+ KB\n",
      "None\n"
     ]
    }
   ],
   "source": [
    "# inspect data\n",
    "print(prescribe_apr2018.info())\n",
    "print(address_apr2018.info())\n",
    "print(chemical_apr2018.info())\n",
    "print(patient_apr2018.info())"
   ]
  },
  {
   "cell_type": "code",
   "execution_count": 4,
   "metadata": {
    "scrolled": false
   },
   "outputs": [
    {
     "name": "stdout",
     "output_type": "stream",
     "text": [
      "sha          0\n",
      "pct          0\n",
      "prac_code    0\n",
      "bnf_code     0\n",
      "bnf_name     0\n",
      "items        0\n",
      "nic          0\n",
      "act_cost     0\n",
      "quantity     0\n",
      "period       0\n",
      "dtype: int64\n",
      "period       0\n",
      "prac_code    0\n",
      "prac_name    0\n",
      "prac_org     0\n",
      "street       0\n",
      "city         0\n",
      "area         0\n",
      "postcode     0\n",
      "dtype: int64\n",
      "bnf_chem_sub    0\n",
      "chem_name       0\n",
      "dtype: int64\n",
      "publication     0\n",
      "extract_date    0\n",
      "type            0\n",
      "ccg_code        0\n",
      "ons_ccg_code    0\n",
      "prac_code       0\n",
      "postcode        0\n",
      "sex             0\n",
      "age             0\n",
      "npatients       0\n",
      "dtype: int64\n"
     ]
    }
   ],
   "source": [
    "# check nulls\n",
    "print(prescribe_apr2018.isnull().sum())\n",
    "print(address_apr2018.isnull().sum())\n",
    "print(chemical_apr2018.isnull().sum())\n",
    "print(patient_apr2018.isnull().sum())"
   ]
  },
  {
   "cell_type": "code",
   "execution_count": 5,
   "metadata": {
    "scrolled": false
   },
   "outputs": [
    {
     "name": "stdout",
     "output_type": "stream",
     "text": [
      "sha          0\n",
      "pct          0\n",
      "prac_code    0\n",
      "bnf_code     0\n",
      "bnf_name     0\n",
      "items        0\n",
      "nic          0\n",
      "act_cost     0\n",
      "quantity     0\n",
      "period       0\n",
      "dtype: int64\n",
      "period          0\n",
      "prac_code       0\n",
      "prac_name       0\n",
      "prac_org        4\n",
      "street        688\n",
      "city          363\n",
      "area         1918\n",
      "postcode        0\n",
      "dtype: int64\n",
      "bnf_chem_sub    0\n",
      "chem_name       0\n",
      "dtype: int64\n",
      "publication     0\n",
      "extract_date    0\n",
      "type            0\n",
      "ccg_code        0\n",
      "ons_ccg_code    0\n",
      "prac_code       0\n",
      "postcode        0\n",
      "sex             0\n",
      "age             0\n",
      "npatients       0\n",
      "dtype: int64\n"
     ]
    }
   ],
   "source": [
    "# check nulls if blank cells (with whitespace only) are converted to NaN\n",
    "print(prescribe_apr2018.replace(r'^\\s+$', np.nan, regex=True).isnull().sum())\n",
    "print(address_apr2018.replace(r'^\\s+$', np.nan, regex=True).isnull().sum())\n",
    "print(chemical_apr2018.replace(r'^\\s+$', np.nan, regex=True).isnull().sum())\n",
    "print(patient_apr2018.replace(r'^\\s+$', np.nan, regex=True).isnull().sum())"
   ]
  },
  {
   "cell_type": "markdown",
   "metadata": {},
   "source": [
    "No important missing values detected. Many cells in addresses are blank likely due to recording inconsistencies. Using addresses to slice out specific areas/cities is not ideal."
   ]
  },
  {
   "cell_type": "markdown",
   "metadata": {},
   "source": [
    "### A1. Identify all GP practices located in London. For those practices, describe:\n",
    "- the total number of patients registered\n",
    "- the total number of prescriptions\n",
    "- the total actual cost of these prescriptions (using the ACT COST column)\n",
    "- the top 10 most frequent drugs prescribed\n",
    "- the bottom 10 less frequent drugs prescribed"
   ]
  },
  {
   "cell_type": "code",
   "execution_count": 6,
   "metadata": {
    "scrolled": true
   },
   "outputs": [
    {
     "name": "stdout",
     "output_type": "stream",
     "text": [
      "9851208 patients registered at a London GP in April 2018.\n"
     ]
    }
   ],
   "source": [
    "London_patient = patient_apr2018[patient_apr2018[\"ccg_code\"].str.match(\"07[L-Y]|08[A-Y]|09A\")].copy(deep=True)\n",
    "Lon_tot_pat = London_patient[\"npatients\"].sum()\n",
    "print(\"%d patients registered at a London GP in April 2018.\" % Lon_tot_pat)"
   ]
  },
  {
   "cell_type": "code",
   "execution_count": 7,
   "metadata": {},
   "outputs": [
    {
     "name": "stdout",
     "output_type": "stream",
     "text": [
      "10416926 items were prescribed in all London GPs in April 2018.\n",
      "Items prescribed this month can be approximated by 1.06 per patient registered.\n"
     ]
    }
   ],
   "source": [
    "London_prescribe = prescribe_apr2018[prescribe_apr2018[\"prac_code\"].isin(London_patient[\"prac_code\"])].copy(deep=True)\n",
    "Lon_tot_presc = London_prescribe[\"items\"].sum()\n",
    "print(\"%d items were prescribed in all London GPs in April 2018.\" % Lon_tot_presc)\n",
    "print(\"Items prescribed this month can be approximated by %.2f per patient registered.\" % (Lon_tot_presc/Lon_tot_pat))"
   ]
  },
  {
   "cell_type": "code",
   "execution_count": 8,
   "metadata": {
    "scrolled": true
   },
   "outputs": [
    {
     "name": "stdout",
     "output_type": "stream",
     "text": [
      "£76586738.71 was spent for these prescriptions in April 2018.\n",
      "This converts to £7.77 spent per patient.\n"
     ]
    }
   ],
   "source": [
    "Lon_tot_cost = London_prescribe[\"act_cost\"].sum()\n",
    "print(\"£%.2f was spent for these prescriptions in April 2018.\" % Lon_tot_cost)\n",
    "print(\"This converts to £%.2f spent per patient.\" % (Lon_tot_cost/Lon_tot_pat))"
   ]
  },
  {
   "cell_type": "code",
   "execution_count": 9,
   "metadata": {},
   "outputs": [
    {
     "data": {
      "text/html": [
       "<div>\n",
       "<style scoped>\n",
       "    .dataframe tbody tr th:only-of-type {\n",
       "        vertical-align: middle;\n",
       "    }\n",
       "\n",
       "    .dataframe tbody tr th {\n",
       "        vertical-align: top;\n",
       "    }\n",
       "\n",
       "    .dataframe thead th {\n",
       "        text-align: right;\n",
       "    }\n",
       "</style>\n",
       "<table border=\"1\" class=\"dataframe\">\n",
       "  <thead>\n",
       "    <tr style=\"text-align: right;\">\n",
       "      <th></th>\n",
       "      <th>bnf_name</th>\n",
       "      <th>total_items</th>\n",
       "    </tr>\n",
       "  </thead>\n",
       "  <tbody>\n",
       "    <tr>\n",
       "      <th>9237</th>\n",
       "      <td>Omeprazole_Cap E/C 20mg</td>\n",
       "      <td>239181</td>\n",
       "    </tr>\n",
       "    <tr>\n",
       "      <th>8206</th>\n",
       "      <td>Metformin HCl_Tab 500mg</td>\n",
       "      <td>208077</td>\n",
       "    </tr>\n",
       "    <tr>\n",
       "      <th>705</th>\n",
       "      <td>Amlodipine_Tab 5mg</td>\n",
       "      <td>198244</td>\n",
       "    </tr>\n",
       "    <tr>\n",
       "      <th>997</th>\n",
       "      <td>Atorvastatin_Tab 20mg</td>\n",
       "      <td>182749</td>\n",
       "    </tr>\n",
       "    <tr>\n",
       "      <th>969</th>\n",
       "      <td>Aspirin Disper_Tab 75mg</td>\n",
       "      <td>168671</td>\n",
       "    </tr>\n",
       "    <tr>\n",
       "      <th>704</th>\n",
       "      <td>Amlodipine_Tab 10mg</td>\n",
       "      <td>155573</td>\n",
       "    </tr>\n",
       "    <tr>\n",
       "      <th>999</th>\n",
       "      <td>Atorvastatin_Tab 40mg</td>\n",
       "      <td>152003</td>\n",
       "    </tr>\n",
       "    <tr>\n",
       "      <th>7202</th>\n",
       "      <td>Lansoprazole_Cap 30mg (E/C Gran)</td>\n",
       "      <td>149520</td>\n",
       "    </tr>\n",
       "    <tr>\n",
       "      <th>11008</th>\n",
       "      <td>Salbutamol_Inha 100mcg (200 D) CFF</td>\n",
       "      <td>140534</td>\n",
       "    </tr>\n",
       "    <tr>\n",
       "      <th>9651</th>\n",
       "      <td>Paracet_Tab 500mg</td>\n",
       "      <td>123526</td>\n",
       "    </tr>\n",
       "  </tbody>\n",
       "</table>\n",
       "</div>"
      ],
      "text/plain": [
       "                                       bnf_name  total_items\n",
       "9237   Omeprazole_Cap E/C 20mg                        239181\n",
       "8206   Metformin HCl_Tab 500mg                        208077\n",
       "705    Amlodipine_Tab 5mg                             198244\n",
       "997    Atorvastatin_Tab 20mg                          182749\n",
       "969    Aspirin Disper_Tab 75mg                        168671\n",
       "704    Amlodipine_Tab 10mg                            155573\n",
       "999    Atorvastatin_Tab 40mg                          152003\n",
       "7202   Lansoprazole_Cap 30mg (E/C Gran)               149520\n",
       "11008  Salbutamol_Inha 100mcg (200 D) CFF             140534\n",
       "9651   Paracet_Tab 500mg                              123526"
      ]
     },
     "execution_count": 9,
     "metadata": {},
     "output_type": "execute_result"
    }
   ],
   "source": [
    "London_total_drug = pd.DataFrame(London_prescribe.groupby(London_prescribe.bnf_name).apply(lambda subf: subf[\"items\"].sum()))\n",
    "London_total_drug.columns = [\"total_items\"]\n",
    "London_total_drug.reset_index(inplace=True)\n",
    "London_total_drug.sort_values(by=[\"total_items\"], ascending=False).iloc[:10, :]"
   ]
  },
  {
   "cell_type": "code",
   "execution_count": 10,
   "metadata": {},
   "outputs": [
    {
     "name": "stdout",
     "output_type": "stream",
     "text": [
      "                                       bnf_name  total_items\n",
      "13699  varicase Class 2 Thigh Open Toe Slc Band            1\n",
      "7082   KytoCel 10cm x 10cm Wound Dress Protease            1\n",
      "7076   Konakion MM_I/V Inj 10mg/ml 1ml Amp                 1\n",
      "7072   KoCarbon Occlusive 4cmx6.4cm Wound Dress            1\n",
      "7069   Knit-Band 15cm x 4m Ktd Polyam & Cellulo            1\n",
      "7065   Kliniderm fiber cmc 5cm x 5cm Wound Dres            1\n",
      "7058   Kliniderm Foam Slc Border 10cm x 30cm Wo            1\n",
      "7039   Ketoconazole_Tab 200mg                              1\n",
      "7034   KetoClassic 3:1_Meal Pouch 135g (Chkn)              1\n",
      "7025   Ketamine_Inj 10mg/ml 20ml Vl                        1\n"
     ]
    },
    {
     "data": {
      "text/plain": [
       "2155"
      ]
     },
     "execution_count": 10,
     "metadata": {},
     "output_type": "execute_result"
    }
   ],
   "source": [
    "print(London_total_drug.sort_values(by=[\"total_items\"]).iloc[:10, :])\n",
    "len(London_total_drug[London_total_drug[\"total_items\"] == 1])\n",
    "# 2155 drug presentations with only 1 item prescribed"
   ]
  },
  {
   "cell_type": "markdown",
   "metadata": {},
   "source": [
    "### A2. Repeat the previous instructions, this time for the city of Cambridge. Discuss and compare findings with the answers for London."
   ]
  },
  {
   "cell_type": "code",
   "execution_count": 11,
   "metadata": {},
   "outputs": [
    {
     "name": "stdout",
     "output_type": "stream",
     "text": [
      "191931 patients registered at a Cambridge city GP in April 2018.\n"
     ]
    }
   ],
   "source": [
    "Cambridge_patient = patient_apr2018[(patient_apr2018[\"ccg_code\"] == \"06H\") &\\\n",
    "                                    (patient_apr2018[\"postcode\"].str.match(\"[C][B][1-5][A-Z]?\\s[0-9][A-Z]{2}\"))].copy(deep=True)\n",
    "Cam_tot_pat = Cambridge_patient[\"npatients\"].sum()\n",
    "print(\"%d patients registered at a Cambridge city GP in April 2018.\" % Cam_tot_pat)"
   ]
  },
  {
   "cell_type": "code",
   "execution_count": 12,
   "metadata": {},
   "outputs": [
    {
     "name": "stdout",
     "output_type": "stream",
     "text": [
      "160494 items were prescribed in all Cambridge city GPs in April 2018.\n",
      "Items prescribed this month can be approximated by 0.84 per patient registered.\n"
     ]
    }
   ],
   "source": [
    "Cambridge_prescribe = prescribe_apr2018[prescribe_apr2018[\"prac_code\"].isin(Cambridge_patient[\"prac_code\"])].copy(deep=True)\n",
    "Cam_tot_presc = Cambridge_prescribe[\"items\"].sum()\n",
    "print(\"%d items were prescribed in all Cambridge city GPs in April 2018.\" % Cam_tot_presc)\n",
    "print(\"Items prescribed this month can be approximated by %.2f per patient registered.\" % (Cam_tot_presc/Cam_tot_pat))"
   ]
  },
  {
   "cell_type": "code",
   "execution_count": 13,
   "metadata": {},
   "outputs": [
    {
     "name": "stdout",
     "output_type": "stream",
     "text": [
      "£1227048.96 was spent for these prescriptions in April 2018.\n",
      "This converts to £6.39 spent per patient.\n"
     ]
    }
   ],
   "source": [
    "Cam_tot_cost = Cambridge_prescribe[\"act_cost\"].sum()\n",
    "print(\"£%.2f was spent for these prescriptions in April 2018.\" % Cam_tot_cost)\n",
    "print(\"This converts to £%.2f spent per patient.\" % (Cam_tot_cost/Cam_tot_pat))"
   ]
  },
  {
   "cell_type": "code",
   "execution_count": 14,
   "metadata": {},
   "outputs": [
    {
     "data": {
      "text/html": [
       "<div>\n",
       "<style scoped>\n",
       "    .dataframe tbody tr th:only-of-type {\n",
       "        vertical-align: middle;\n",
       "    }\n",
       "\n",
       "    .dataframe tbody tr th {\n",
       "        vertical-align: top;\n",
       "    }\n",
       "\n",
       "    .dataframe thead th {\n",
       "        text-align: right;\n",
       "    }\n",
       "</style>\n",
       "<table border=\"1\" class=\"dataframe\">\n",
       "  <thead>\n",
       "    <tr style=\"text-align: right;\">\n",
       "      <th></th>\n",
       "      <th>bnf_name</th>\n",
       "      <th>total_items</th>\n",
       "    </tr>\n",
       "  </thead>\n",
       "  <tbody>\n",
       "    <tr>\n",
       "      <th>2958</th>\n",
       "      <td>Omeprazole_Cap E/C 20mg</td>\n",
       "      <td>5063</td>\n",
       "    </tr>\n",
       "    <tr>\n",
       "      <th>294</th>\n",
       "      <td>Atorvastatin_Tab 20mg</td>\n",
       "      <td>3158</td>\n",
       "    </tr>\n",
       "    <tr>\n",
       "      <th>276</th>\n",
       "      <td>Aspirin Disper_Tab 75mg</td>\n",
       "      <td>2476</td>\n",
       "    </tr>\n",
       "    <tr>\n",
       "      <th>206</th>\n",
       "      <td>Amlodipine_Tab 5mg</td>\n",
       "      <td>2268</td>\n",
       "    </tr>\n",
       "    <tr>\n",
       "      <th>3546</th>\n",
       "      <td>Salbutamol_Inha 100mcg (200 D) CFF</td>\n",
       "      <td>2149</td>\n",
       "    </tr>\n",
       "    <tr>\n",
       "      <th>3086</th>\n",
       "      <td>Paracet_Tab 500mg</td>\n",
       "      <td>2093</td>\n",
       "    </tr>\n",
       "    <tr>\n",
       "      <th>2536</th>\n",
       "      <td>Metformin HCl_Tab 500mg</td>\n",
       "      <td>1907</td>\n",
       "    </tr>\n",
       "    <tr>\n",
       "      <th>1657</th>\n",
       "      <td>Folic Acid_Tab 5mg</td>\n",
       "      <td>1816</td>\n",
       "    </tr>\n",
       "    <tr>\n",
       "      <th>200</th>\n",
       "      <td>Amitriptyline HCl_Tab 10mg</td>\n",
       "      <td>1703</td>\n",
       "    </tr>\n",
       "    <tr>\n",
       "      <th>2266</th>\n",
       "      <td>Levothyrox Sod_Tab 25mcg</td>\n",
       "      <td>1657</td>\n",
       "    </tr>\n",
       "  </tbody>\n",
       "</table>\n",
       "</div>"
      ],
      "text/plain": [
       "                                      bnf_name  total_items\n",
       "2958  Omeprazole_Cap E/C 20mg                          5063\n",
       "294   Atorvastatin_Tab 20mg                            3158\n",
       "276   Aspirin Disper_Tab 75mg                          2476\n",
       "206   Amlodipine_Tab 5mg                               2268\n",
       "3546  Salbutamol_Inha 100mcg (200 D) CFF               2149\n",
       "3086  Paracet_Tab 500mg                                2093\n",
       "2536  Metformin HCl_Tab 500mg                          1907\n",
       "1657  Folic Acid_Tab 5mg                               1816\n",
       "200   Amitriptyline HCl_Tab 10mg                       1703\n",
       "2266  Levothyrox Sod_Tab 25mcg                         1657"
      ]
     },
     "execution_count": 14,
     "metadata": {},
     "output_type": "execute_result"
    }
   ],
   "source": [
    "Cambridge_total_drug = pd.DataFrame(Cambridge_prescribe.groupby(Cambridge_prescribe.bnf_name)\\\n",
    "                                    .apply(lambda subf: subf[[\"items\"]].sum()))\n",
    "Cambridge_total_drug.columns = [\"total_items\"]\n",
    "Cambridge_total_drug.reset_index(inplace=True)\n",
    "Cambridge_total_drug.sort_values(by=[\"total_items\"], ascending=False).iloc[:10, :]"
   ]
  },
  {
   "cell_type": "code",
   "execution_count": 15,
   "metadata": {
    "scrolled": true
   },
   "outputs": [
    {
     "name": "stdout",
     "output_type": "stream",
     "text": [
      "                                      bnf_name  total_items\n",
      "0     365 Strips Skin Closure Strips Ster Surg            1\n",
      "2108  Isotard 40 XL_Tab 40mg                              1\n",
      "2094  Isosorbide Dinit_Tab 20mg                           1\n",
      "2093  Isosorbide Dinit_Tab 10mg                           1\n",
      "2091  Ismo 20_Tab 20mg                                    1\n",
      "2090  IryCone+ Irrig System                               1\n",
      "2085  Irbesartan/Hydchloroth_Tab 300mg/25mg               1\n",
      "2077  Intuniv_Tab 3mg M/R                                 1\n",
      "2074  Insupen Needles Pen Inj Screw On 4mm/33             1\n",
      "2070  Insight 2 Tube Holder Tracheo TH100                 1\n"
     ]
    },
    {
     "data": {
      "text/plain": [
       "1206"
      ]
     },
     "execution_count": 15,
     "metadata": {},
     "output_type": "execute_result"
    }
   ],
   "source": [
    "print(Cambridge_total_drug.sort_values(by=[\"total_items\"]).iloc[:10, :])\n",
    "len(Cambridge_total_drug[Cambridge_total_drug[\"total_items\"] == 1])\n",
    "# 644 drug presentations with only 1 item prescribed"
   ]
  },
  {
   "cell_type": "markdown",
   "metadata": {},
   "source": [
    "# Technical Report:\n",
    "- There are multiple ways to define London, such as postcodes and addresses. However, after inspection of addresses, it is found that “London” is inconsistently recorded as “area” or “city” and GPs in grey areas such as Watford are differential in whether they regard themselves as “London” in their addresses. Postcode is a more robust identifier, although it is still arguable whether or not to consider Greater London on top of the 8 postcodes corresponding to Central London. In this case, since the NHS clinical commissioning group (CCG) codes are available in the patient dataset, using this may be more informative for planning and commissioning healthcare. The CCG codes corresponding to the London Commissioning Board range from “07L” to “09A” (https://www.england.nhs.uk/ccg-details/). This method returns 9,851,208 patients registered at a London GP in April 2018. For comparison, the Office for National Statistics (ONS) reported a population estimate of 8.8 million in London in 2017 (https://www.ons.gov.uk/peoplepopulationandcommunity/populationandmigration/populationestimates/datasets/censusoutputareaestimatesinthelondonregionofengland). Despite a slightly different time point and possible variation in defining the region, the number of registration records for London identified by this method is comparable and likely valid, while the overestimation may additionally be attributed to record confusions and immigration.\n",
    "- Similarly, the CCG code was used to define the city of Cambridge. However, there is only one code “06H” that corresponds to the whole Cambridgeshire. To further restrict the area to the city, the corresponding postcode areas of CB1 to CB5 was used in combination. This returns 191,931 patients registered at a Cambridge city GP in April 2018. The population of the city of Cambridge was approximated at 123,900 in 2011 (https://www.cambridge.gov.uk/2011-census). Again, after considering population growth, possible variation in region definition and the nature of registration records, this number is comparable with slight overestimation which supports the validity of this method.\n",
    "- Across all London GPs, 10,416,926 items were prescribed in April 2018 which converts to 1.06 items per patient. In Cambridge city, 160,494 items were prescribed in April 2018 which converts to 0.84 items per patient. For GPs in both regions, the item prescribed in this month can be approximated by around 1 per patient registered, even though we do not have data on patient visits.\n",
    "- In London, £76586738.71 was spent for these prescriptions which equals to an average of £7.77 per patient registered. In Cambridge city this was £1227048.96 with an average of £6.39 spent per patient registered, which is £1.38 slightly lower than that of London.\n",
    "- Among the top 10 drugs prescribed in London, Omeprazole and Lansoprazole are commonly prescribed for stomach and oesophagus problems like acid reflux. Amlodipine, a drug for lowering blood pressure, and atorvastatin, a drug for reducing high blood cholesterol, are on the top 10 list in two different presentations, making them the most commonly prescribed chemicals in London. Metformin is a drug for type 2 diabetes. Salbutamol is a drug for asthma and breathlessness. Aspirin and Paracet are common pain killers, but aspirin is sometimes prescribed to reduce risks of cardiovascular events. The results suggest that chronic diseases including cardiovascular problems and diabetes constitute a major health care burden in London in terms of common prescriptions. Gastric reflux can be results of stress and busy lifestyle that leads to irregular dietary habits, which can be common in a big city like London. \n",
    "- For Cambridge city, the same drugs are Omeprazole for acid reflux, Atorvastatin for high blood cholesterol, Amlodipine for hypertension, Salbutamol for asthma, Metformin for diabetes, Aspirin and Paracet for general pain. Similarly, cardiovascular conditions are a major health care burden in Cambridge city. In addition, several different drugs are on the list including Folic acid for anaemia and prophylaxis of multiple diseases, Amitriptyline for pain and migraine, and Levothyrox for thyroid hormone deficiency.\n",
    "- The least prescribed items for both London and Cambridge city are not very informative because there are 2155 and 1206 items that were prescribed just once respectively in April 2018. These include some accessories for specialised conditions as seen in the printed examples."
   ]
  },
  {
   "cell_type": "markdown",
   "metadata": {},
   "source": [
    "### A3. Describe total number of prescriptions and their total actual cost (using the ACT COST column) across all practices for drugs related to:\n",
    "- cardiovascular disease (British National Formulary chapter 2)\n",
    "- antidepressants (British National Formulary chapter 4.3)"
   ]
  },
  {
   "cell_type": "code",
   "execution_count": 16,
   "metadata": {},
   "outputs": [
    {
     "name": "stdout",
     "output_type": "stream",
     "text": [
      "(22358, 3)\n"
     ]
    },
    {
     "data": {
      "text/html": [
       "<div>\n",
       "<style scoped>\n",
       "    .dataframe tbody tr th:only-of-type {\n",
       "        vertical-align: middle;\n",
       "    }\n",
       "\n",
       "    .dataframe tbody tr th {\n",
       "        vertical-align: top;\n",
       "    }\n",
       "\n",
       "    .dataframe thead th {\n",
       "        text-align: right;\n",
       "    }\n",
       "</style>\n",
       "<table border=\"1\" class=\"dataframe\">\n",
       "  <thead>\n",
       "    <tr style=\"text-align: right;\">\n",
       "      <th></th>\n",
       "      <th>bnf_code</th>\n",
       "      <th>total_items</th>\n",
       "      <th>total_act_cost</th>\n",
       "    </tr>\n",
       "  </thead>\n",
       "  <tbody>\n",
       "    <tr>\n",
       "      <th>0</th>\n",
       "      <td>0101010C0AAAAAA</td>\n",
       "      <td>169.0</td>\n",
       "      <td>1783.49</td>\n",
       "    </tr>\n",
       "    <tr>\n",
       "      <th>1</th>\n",
       "      <td>0101010C0BBAAAA</td>\n",
       "      <td>310.0</td>\n",
       "      <td>3054.91</td>\n",
       "    </tr>\n",
       "    <tr>\n",
       "      <th>2</th>\n",
       "      <td>0101010F0AAAUAU</td>\n",
       "      <td>23.0</td>\n",
       "      <td>3493.48</td>\n",
       "    </tr>\n",
       "    <tr>\n",
       "      <th>3</th>\n",
       "      <td>0101010G0AAABAB</td>\n",
       "      <td>1911.0</td>\n",
       "      <td>6411.46</td>\n",
       "    </tr>\n",
       "    <tr>\n",
       "      <th>4</th>\n",
       "      <td>0101010G0AAAGAG</td>\n",
       "      <td>158.0</td>\n",
       "      <td>571.66</td>\n",
       "    </tr>\n",
       "  </tbody>\n",
       "</table>\n",
       "</div>"
      ],
      "text/plain": [
       "          bnf_code  total_items  total_act_cost\n",
       "0  0101010C0AAAAAA        169.0         1783.49\n",
       "1  0101010C0BBAAAA        310.0         3054.91\n",
       "2  0101010F0AAAUAU         23.0         3493.48\n",
       "3  0101010G0AAABAB       1911.0         6411.46\n",
       "4  0101010G0AAAGAG        158.0          571.66"
      ]
     },
     "execution_count": 16,
     "metadata": {},
     "output_type": "execute_result"
    }
   ],
   "source": [
    "# create a table with items and cost grouped by BNF codes\n",
    "All_drug_cost = pd.DataFrame(prescribe_apr2018.groupby(prescribe_apr2018.bnf_code)\\\n",
    "                             .apply(lambda subf: subf[[\"items\", \"act_cost\"]].sum()))\n",
    "All_drug_cost.columns = [\"total_items\", \"total_act_cost\"]\n",
    "All_drug_cost.reset_index(inplace=True)\n",
    "print(All_drug_cost.shape)\n",
    "All_drug_cost.head()"
   ]
  },
  {
   "cell_type": "code",
   "execution_count": 17,
   "metadata": {},
   "outputs": [
    {
     "name": "stdout",
     "output_type": "stream",
     "text": [
      "26449832 items related to cardiovascular disease were prescribed, costing £90193834.02 with an average of £3.41 per item.\n"
     ]
    }
   ],
   "source": [
    "# for CVD\n",
    "All_cvd = All_drug_cost[All_drug_cost[\"bnf_code\"].str.startswith(\"02\")]\n",
    "cvd_items = All_cvd[\"total_items\"].sum()\n",
    "cvd_cost = All_cvd[\"total_act_cost\"].sum()\n",
    "print(\"%d items related to cardiovascular disease were prescribed, costing £%.2f with an average of £%.2f per item.\" \\\n",
    "      % (cvd_items, cvd_cost, cvd_cost/cvd_items))"
   ]
  },
  {
   "cell_type": "code",
   "execution_count": 18,
   "metadata": {},
   "outputs": [
    {
     "name": "stdout",
     "output_type": "stream",
     "text": [
      "5715873 antidepressant items were prescribed, costing £16853470.86 with an average of £2.95 per item.\n"
     ]
    }
   ],
   "source": [
    "# for antidepressants\n",
    "All_antidepr = All_drug_cost[All_drug_cost[\"bnf_code\"].str.startswith(\"0403\")]\n",
    "antidepr_items = All_antidepr[\"total_items\"].sum()\n",
    "antidepr_cost = All_antidepr[\"total_act_cost\"].sum()\n",
    "print(\"%d antidepressant items were prescribed, costing £%.2f with an average of £%.2f per item.\" \\\n",
    "      % (antidepr_items, antidepr_cost, antidepr_cost/antidepr_items))"
   ]
  },
  {
   "cell_type": "markdown",
   "metadata": {},
   "source": [
    "# Technical Report:\n",
    "- 26,449,832 items related to cardiovascular disease were prescribed, costing £90,193,834.02 with an average of £3.41 per item. 5,715,873 antidepressant items were prescribed, costing £16,853,470.86 with an average of £2.95 per item. There are more items for cardiovascular conditions prescribed than antidepressant and they cost more. "
   ]
  },
  {
   "cell_type": "markdown",
   "metadata": {},
   "source": [
    "### A4. Describe the total spending and the relative costs per patient across all practices for the month of April 2018"
   ]
  },
  {
   "cell_type": "code",
   "execution_count": 19,
   "metadata": {},
   "outputs": [
    {
     "name": "stdout",
     "output_type": "stream",
     "text": [
      "(7191, 3)\n"
     ]
    },
    {
     "data": {
      "text/html": [
       "<div>\n",
       "<style scoped>\n",
       "    .dataframe tbody tr th:only-of-type {\n",
       "        vertical-align: middle;\n",
       "    }\n",
       "\n",
       "    .dataframe tbody tr th {\n",
       "        vertical-align: top;\n",
       "    }\n",
       "\n",
       "    .dataframe thead th {\n",
       "        text-align: right;\n",
       "    }\n",
       "</style>\n",
       "<table border=\"1\" class=\"dataframe\">\n",
       "  <thead>\n",
       "    <tr style=\"text-align: right;\">\n",
       "      <th></th>\n",
       "      <th>prac_code</th>\n",
       "      <th>total_act_cost</th>\n",
       "      <th>npatients</th>\n",
       "    </tr>\n",
       "  </thead>\n",
       "  <tbody>\n",
       "    <tr>\n",
       "      <th>0</th>\n",
       "      <td>A81001</td>\n",
       "      <td>52194.63</td>\n",
       "      <td>4086</td>\n",
       "    </tr>\n",
       "    <tr>\n",
       "      <th>1</th>\n",
       "      <td>A81002</td>\n",
       "      <td>268607.26</td>\n",
       "      <td>19906</td>\n",
       "    </tr>\n",
       "    <tr>\n",
       "      <th>2</th>\n",
       "      <td>A81004</td>\n",
       "      <td>139115.40</td>\n",
       "      <td>10165</td>\n",
       "    </tr>\n",
       "    <tr>\n",
       "      <th>3</th>\n",
       "      <td>A81005</td>\n",
       "      <td>102914.06</td>\n",
       "      <td>8016</td>\n",
       "    </tr>\n",
       "    <tr>\n",
       "      <th>4</th>\n",
       "      <td>A81006</td>\n",
       "      <td>183226.79</td>\n",
       "      <td>14497</td>\n",
       "    </tr>\n",
       "  </tbody>\n",
       "</table>\n",
       "</div>"
      ],
      "text/plain": [
       "  prac_code  total_act_cost  npatients\n",
       "0    A81001        52194.63       4086\n",
       "1    A81002       268607.26      19906\n",
       "2    A81004       139115.40      10165\n",
       "3    A81005       102914.06       8016\n",
       "4    A81006       183226.79      14497"
      ]
     },
     "execution_count": 19,
     "metadata": {},
     "output_type": "execute_result"
    }
   ],
   "source": [
    "# creating a new data frame for total spendings and patient numbers by practice\n",
    "All_prac_cost = pd.DataFrame(prescribe_apr2018.groupby(prescribe_apr2018.prac_code).apply(lambda subf: subf[[\"act_cost\"]].sum()))\n",
    "All_prac_cost.columns = [\"total_act_cost\"]\n",
    "All_prac_cost.reset_index(inplace=True)\n",
    "\n",
    "All_prac_cost_pat = pd.merge(All_prac_cost, patient_apr2018[[\"prac_code\", \"npatients\"]], left_on=\"prac_code\",\\\n",
    "                             right_on=\"prac_code\")\n",
    "print(All_prac_cost_pat.shape)\n",
    "All_prac_cost_pat.head()"
   ]
  },
  {
   "cell_type": "code",
   "execution_count": 20,
   "metadata": {},
   "outputs": [
    {
     "data": {
      "image/png": "[encoded data removed]",
      "text/plain": [
       "<Figure size 576x432 with 1 Axes>"
      ]
     },
     "metadata": {},
     "output_type": "display_data"
    }
   ],
   "source": [
    "fig = plt.figure(figsize=(8, 6))\n",
    "ax = fig.add_subplot(111)\n",
    "x = All_prac_cost_pat[\"npatients\"]\n",
    "y = All_prac_cost_pat[\"total_act_cost\"]\n",
    "ax.scatter(x, y, color=\"royalblue\")\n",
    "fit = np.polyfit(x, y, deg=1)\n",
    "ax.plot(x, fit[0] * x + fit[1], color=\"red\")\n",
    "ax.set_title(\"Scatter plot: monthly total spending / registered patients\")\n",
    "ax.set_xlabel(\"total number of registered patients\", fontsize=12)\n",
    "ax.set_ylabel(\"monthly total spending per surgery (£)\", fontsize=12)\n",
    "plt.show()"
   ]
  },
  {
   "cell_type": "code",
   "execution_count": 21,
   "metadata": {},
   "outputs": [
    {
     "data": {
      "image/png": "[encoded data removed]",
      "text/plain": [
       "<Figure size 432x288 with 1 Axes>"
      ]
     },
     "metadata": {},
     "output_type": "display_data"
    },
    {
     "name": "stdout",
     "output_type": "stream",
     "text": [
      "Excluding 1% outliers on both sides, the resulting distribution has mean £10.76 and standard deviation £2.76.\n"
     ]
    }
   ],
   "source": [
    "cost_patient_plot = All_prac_cost_pat\n",
    "cost_patient_plot[\"cost_per_patient\"] = cost_patient_plot[\"total_act_cost\"] / cost_patient_plot[\"npatients\"] \n",
    "\n",
    "quantile_01 = cost_patient_plot[\"cost_per_patient\"].quantile(.01)\n",
    "quantile_99 = cost_patient_plot[\"cost_per_patient\"].quantile(.99)\n",
    "\n",
    "no_outliers = cost_patient_plot[(cost_patient_plot[\"cost_per_patient\"].values <= quantile_99) &\\\n",
    "                                (cost_patient_plot[\"cost_per_patient\"].values >= quantile_01)][\"cost_per_patient\"]\n",
    "plt.hist(no_outliers, bins=30, density=True, alpha=0.7)\n",
    "\n",
    "# find minimum and maximum of xticks to know range of theoretical distribution\n",
    "xt = plt.xticks()[0]  \n",
    "xmin, xmax = min(xt), max(xt)  \n",
    "lnspc = np.linspace(xmin, xmax, len(no_outliers))\n",
    "\n",
    "# normal distribution\n",
    "mean, std = norm.fit(no_outliers) # get mean and standard deviation  \n",
    "pdf_g = norm.pdf(lnspc, mean, std) # get theoretical values in interval  \n",
    "plt.plot(lnspc, pdf_g, \"y--\", linewidth=3, label=\"Norm\") # plotting\n",
    "\n",
    "plt.title(\"Total prescription spending per registered patient of GP practices in April 2018\")\n",
    "plt.xlabel(\"April 2018 prescription spending per patient registered (£)\")\n",
    "plt.ylabel(\"Normalised frequency\")\n",
    "plt.grid(True)\n",
    "\n",
    "plt.show()\n",
    "print(\"Excluding 1%% outliers on both sides, the resulting distribution has mean £%.2f and standard deviation £%.2f.\" \\\n",
    "     % (mean, std))"
   ]
  },
  {
   "cell_type": "code",
   "execution_count": 22,
   "metadata": {},
   "outputs": [
    {
     "name": "stdout",
     "output_type": "stream",
     "text": [
      "(144, 4)\n"
     ]
    },
    {
     "data": {
      "text/html": [
       "<div>\n",
       "<style scoped>\n",
       "    .dataframe tbody tr th:only-of-type {\n",
       "        vertical-align: middle;\n",
       "    }\n",
       "\n",
       "    .dataframe tbody tr th {\n",
       "        vertical-align: top;\n",
       "    }\n",
       "\n",
       "    .dataframe thead th {\n",
       "        text-align: right;\n",
       "    }\n",
       "</style>\n",
       "<table border=\"1\" class=\"dataframe\">\n",
       "  <thead>\n",
       "    <tr style=\"text-align: right;\">\n",
       "      <th></th>\n",
       "      <th>prac_code</th>\n",
       "      <th>total_act_cost</th>\n",
       "      <th>npatients</th>\n",
       "      <th>cost_per_patient</th>\n",
       "    </tr>\n",
       "  </thead>\n",
       "  <tbody>\n",
       "    <tr>\n",
       "      <th>6983</th>\n",
       "      <td>Y02045</td>\n",
       "      <td>22640.16</td>\n",
       "      <td>8</td>\n",
       "      <td>2830.020000</td>\n",
       "    </tr>\n",
       "    <tr>\n",
       "      <th>7095</th>\n",
       "      <td>Y02873</td>\n",
       "      <td>4295.03</td>\n",
       "      <td>3</td>\n",
       "      <td>1431.676667</td>\n",
       "    </tr>\n",
       "    <tr>\n",
       "      <th>6977</th>\n",
       "      <td>Y01924</td>\n",
       "      <td>90691.01</td>\n",
       "      <td>106</td>\n",
       "      <td>855.575566</td>\n",
       "    </tr>\n",
       "    <tr>\n",
       "      <th>2588</th>\n",
       "      <td>F81608</td>\n",
       "      <td>3099.81</td>\n",
       "      <td>14</td>\n",
       "      <td>221.415000</td>\n",
       "    </tr>\n",
       "    <tr>\n",
       "      <th>7047</th>\n",
       "      <td>Y02645</td>\n",
       "      <td>835.28</td>\n",
       "      <td>6</td>\n",
       "      <td>139.213333</td>\n",
       "    </tr>\n",
       "  </tbody>\n",
       "</table>\n",
       "</div>"
      ],
      "text/plain": [
       "     prac_code  total_act_cost  npatients  cost_per_patient\n",
       "6983    Y02045        22640.16          8       2830.020000\n",
       "7095    Y02873         4295.03          3       1431.676667\n",
       "6977    Y01924        90691.01        106        855.575566\n",
       "2588    F81608         3099.81         14        221.415000\n",
       "7047    Y02645          835.28          6        139.213333"
      ]
     },
     "execution_count": 22,
     "metadata": {},
     "output_type": "execute_result"
    }
   ],
   "source": [
    "# inspecting the outliers\n",
    "outliers = cost_patient_plot[(cost_patient_plot[\"cost_per_patient\"].values > quantile_99) |\\\n",
    "                                (cost_patient_plot[\"cost_per_patient\"].values < quantile_01)]\n",
    "\n",
    "print(outliers.shape)\n",
    "outliers.sort_values(by=[\"cost_per_patient\"], ascending=False).head()"
   ]
  },
  {
   "cell_type": "code",
   "execution_count": 23,
   "metadata": {},
   "outputs": [
    {
     "data": {
      "text/html": [
       "<div>\n",
       "<style scoped>\n",
       "    .dataframe tbody tr th:only-of-type {\n",
       "        vertical-align: middle;\n",
       "    }\n",
       "\n",
       "    .dataframe tbody tr th {\n",
       "        vertical-align: top;\n",
       "    }\n",
       "\n",
       "    .dataframe thead th {\n",
       "        text-align: right;\n",
       "    }\n",
       "</style>\n",
       "<table border=\"1\" class=\"dataframe\">\n",
       "  <thead>\n",
       "    <tr style=\"text-align: right;\">\n",
       "      <th></th>\n",
       "      <th>prac_name</th>\n",
       "      <th>prac_org</th>\n",
       "      <th>street</th>\n",
       "      <th>city</th>\n",
       "      <th>area</th>\n",
       "    </tr>\n",
       "  </thead>\n",
       "  <tbody>\n",
       "    <tr>\n",
       "      <th>7446</th>\n",
       "      <td>VERNOVA HEALTHCARE CIC</td>\n",
       "      <td>WATERS GREEN MEDICAL CTR</td>\n",
       "      <td>SUNDERLAND STREET</td>\n",
       "      <td>MACCLESFIELD</td>\n",
       "      <td>CHESHIRE</td>\n",
       "    </tr>\n",
       "  </tbody>\n",
       "</table>\n",
       "</div>"
      ],
      "text/plain": [
       "                                     prac_name                   prac_org  \\\n",
       "7446  VERNOVA HEALTHCARE CIC                    WATERS GREEN MEDICAL CTR    \n",
       "\n",
       "                         street                       city  \\\n",
       "7446  SUNDERLAND STREET          MACCLESFIELD                \n",
       "\n",
       "                           area  \n",
       "7446  CHESHIRE                   "
      ]
     },
     "execution_count": 23,
     "metadata": {},
     "output_type": "execute_result"
    }
   ],
   "source": [
    "# finding the practice with the highest cost per patient among the outliers\n",
    "address_apr2018[address_apr2018[\"prac_code\"] == \"Y02045\"].iloc[:,2:7]"
   ]
  },
  {
   "cell_type": "code",
   "execution_count": 24,
   "metadata": {},
   "outputs": [
    {
     "data": {
      "text/html": [
       "<div>\n",
       "<style scoped>\n",
       "    .dataframe tbody tr th:only-of-type {\n",
       "        vertical-align: middle;\n",
       "    }\n",
       "\n",
       "    .dataframe tbody tr th {\n",
       "        vertical-align: top;\n",
       "    }\n",
       "\n",
       "    .dataframe thead th {\n",
       "        text-align: right;\n",
       "    }\n",
       "</style>\n",
       "<table border=\"1\" class=\"dataframe\">\n",
       "  <thead>\n",
       "    <tr style=\"text-align: right;\">\n",
       "      <th></th>\n",
       "      <th>bnf_name</th>\n",
       "      <th>items</th>\n",
       "      <th>nic</th>\n",
       "      <th>act_cost</th>\n",
       "    </tr>\n",
       "  </thead>\n",
       "  <tbody>\n",
       "    <tr>\n",
       "      <th>37680</th>\n",
       "      <td>Tacrolimus_Oint 0.1%</td>\n",
       "      <td>10</td>\n",
       "      <td>413.28</td>\n",
       "      <td>383.40</td>\n",
       "    </tr>\n",
       "    <tr>\n",
       "      <th>37530</th>\n",
       "      <td>Rifampicin_Cap 300mg</td>\n",
       "      <td>3</td>\n",
       "      <td>450.89</td>\n",
       "      <td>418.39</td>\n",
       "    </tr>\n",
       "    <tr>\n",
       "      <th>37706</th>\n",
       "      <td>Aldara_Crm 5% Sach 250mg</td>\n",
       "      <td>5</td>\n",
       "      <td>453.60</td>\n",
       "      <td>420.92</td>\n",
       "    </tr>\n",
       "    <tr>\n",
       "      <th>37709</th>\n",
       "      <td>Fluorouracil_Crm 5%</td>\n",
       "      <td>16</td>\n",
       "      <td>526.40</td>\n",
       "      <td>488.38</td>\n",
       "    </tr>\n",
       "    <tr>\n",
       "      <th>37710</th>\n",
       "      <td>Efudix_Crm 5%</td>\n",
       "      <td>26</td>\n",
       "      <td>855.40</td>\n",
       "      <td>793.61</td>\n",
       "    </tr>\n",
       "    <tr>\n",
       "      <th>37700</th>\n",
       "      <td>Roaccutane_Cap 20mg</td>\n",
       "      <td>21</td>\n",
       "      <td>1077.09</td>\n",
       "      <td>999.66</td>\n",
       "    </tr>\n",
       "    <tr>\n",
       "      <th>37673</th>\n",
       "      <td>Enstilar_Foam Aero 50mcg/0.5mg/g</td>\n",
       "      <td>25</td>\n",
       "      <td>1230.08</td>\n",
       "      <td>1141.07</td>\n",
       "    </tr>\n",
       "    <tr>\n",
       "      <th>37577</th>\n",
       "      <td>Ciclosporin_Cap 100mg</td>\n",
       "      <td>6</td>\n",
       "      <td>1493.05</td>\n",
       "      <td>1385.01</td>\n",
       "    </tr>\n",
       "    <tr>\n",
       "      <th>37768</th>\n",
       "      <td>FreeStyle Libre Sensor Kit</td>\n",
       "      <td>29</td>\n",
       "      <td>2065.00</td>\n",
       "      <td>1915.42</td>\n",
       "    </tr>\n",
       "    <tr>\n",
       "      <th>37698</th>\n",
       "      <td>Isotretinoin_Cap 20mg</td>\n",
       "      <td>59</td>\n",
       "      <td>2742.23</td>\n",
       "      <td>2546.07</td>\n",
       "    </tr>\n",
       "  </tbody>\n",
       "</table>\n",
       "</div>"
      ],
      "text/plain": [
       "                                       bnf_name  items      nic  act_cost\n",
       "37680  Tacrolimus_Oint 0.1%                         10   413.28    383.40\n",
       "37530  Rifampicin_Cap 300mg                          3   450.89    418.39\n",
       "37706  Aldara_Crm 5% Sach 250mg                      5   453.60    420.92\n",
       "37709  Fluorouracil_Crm 5%                          16   526.40    488.38\n",
       "37710  Efudix_Crm 5%                                26   855.40    793.61\n",
       "37700  Roaccutane_Cap 20mg                          21  1077.09    999.66\n",
       "37673  Enstilar_Foam Aero 50mcg/0.5mg/g             25  1230.08   1141.07\n",
       "37577  Ciclosporin_Cap 100mg                         6  1493.05   1385.01\n",
       "37768  FreeStyle Libre Sensor Kit                   29  2065.00   1915.42\n",
       "37698  Isotretinoin_Cap 20mg                        59  2742.23   2546.07"
      ]
     },
     "execution_count": 24,
     "metadata": {},
     "output_type": "execute_result"
    }
   ],
   "source": [
    "# inspecting the most costly items of Vernova Healthcare CIC\n",
    "prescribe_apr2018[prescribe_apr2018[\"prac_code\"] == \"Y02045\"].sort_values(by=\"act_cost\").iloc[:,4:8].tail(10)"
   ]
  },
  {
   "cell_type": "code",
   "execution_count": 25,
   "metadata": {},
   "outputs": [
    {
     "data": {
      "text/plain": [
       "0.35279035130493774"
      ]
     },
     "execution_count": 25,
     "metadata": {},
     "output_type": "execute_result"
    }
   ],
   "source": [
    "# calculating the contribution of the top 5 presentations in the practice's total spending\n",
    "prescribe_apr2018[prescribe_apr2018[\"prac_code\"] == \"Y02045\"].sort_values(by=\"act_cost\").iloc[-5:,7].sum()/22640.16"
   ]
  },
  {
   "cell_type": "code",
   "execution_count": 26,
   "metadata": {
    "scrolled": true
   },
   "outputs": [
    {
     "data": {
      "text/html": [
       "<div>\n",
       "<style scoped>\n",
       "    .dataframe tbody tr th:only-of-type {\n",
       "        vertical-align: middle;\n",
       "    }\n",
       "\n",
       "    .dataframe tbody tr th {\n",
       "        vertical-align: top;\n",
       "    }\n",
       "\n",
       "    .dataframe thead th {\n",
       "        text-align: right;\n",
       "    }\n",
       "</style>\n",
       "<table border=\"1\" class=\"dataframe\">\n",
       "  <thead>\n",
       "    <tr style=\"text-align: right;\">\n",
       "      <th></th>\n",
       "      <th>prac_code</th>\n",
       "      <th>total_act_cost</th>\n",
       "      <th>npatients</th>\n",
       "      <th>cost_per_patient</th>\n",
       "    </tr>\n",
       "  </thead>\n",
       "  <tbody>\n",
       "    <tr>\n",
       "      <th>647</th>\n",
       "      <td>B83044</td>\n",
       "      <td>3.38</td>\n",
       "      <td>483</td>\n",
       "      <td>0.006998</td>\n",
       "    </tr>\n",
       "    <tr>\n",
       "      <th>3429</th>\n",
       "      <td>G83064</td>\n",
       "      <td>8.57</td>\n",
       "      <td>2406</td>\n",
       "      <td>0.003562</td>\n",
       "    </tr>\n",
       "    <tr>\n",
       "      <th>760</th>\n",
       "      <td>B85638</td>\n",
       "      <td>8.42</td>\n",
       "      <td>4109</td>\n",
       "      <td>0.002049</td>\n",
       "    </tr>\n",
       "    <tr>\n",
       "      <th>6418</th>\n",
       "      <td>P81740</td>\n",
       "      <td>3.81</td>\n",
       "      <td>1892</td>\n",
       "      <td>0.002014</td>\n",
       "    </tr>\n",
       "    <tr>\n",
       "      <th>4707</th>\n",
       "      <td>L81080</td>\n",
       "      <td>18.80</td>\n",
       "      <td>10908</td>\n",
       "      <td>0.001724</td>\n",
       "    </tr>\n",
       "  </tbody>\n",
       "</table>\n",
       "</div>"
      ],
      "text/plain": [
       "     prac_code  total_act_cost  npatients  cost_per_patient\n",
       "647     B83044            3.38        483          0.006998\n",
       "3429    G83064            8.57       2406          0.003562\n",
       "760     B85638            8.42       4109          0.002049\n",
       "6418    P81740            3.81       1892          0.002014\n",
       "4707    L81080           18.80      10908          0.001724"
      ]
     },
     "execution_count": 26,
     "metadata": {},
     "output_type": "execute_result"
    }
   ],
   "source": [
    "# inspecting the lower end of the cost per patient outliers\n",
    "outliers.sort_values(by=[\"cost_per_patient\"], ascending=False).tail()"
   ]
  },
  {
   "cell_type": "code",
   "execution_count": 27,
   "metadata": {},
   "outputs": [
    {
     "data": {
      "text/html": [
       "<div>\n",
       "<style scoped>\n",
       "    .dataframe tbody tr th:only-of-type {\n",
       "        vertical-align: middle;\n",
       "    }\n",
       "\n",
       "    .dataframe tbody tr th {\n",
       "        vertical-align: top;\n",
       "    }\n",
       "\n",
       "    .dataframe thead th {\n",
       "        text-align: right;\n",
       "    }\n",
       "</style>\n",
       "<table border=\"1\" class=\"dataframe\">\n",
       "  <thead>\n",
       "    <tr style=\"text-align: right;\">\n",
       "      <th></th>\n",
       "      <th>prac_name</th>\n",
       "      <th>prac_org</th>\n",
       "      <th>street</th>\n",
       "      <th>city</th>\n",
       "      <th>area</th>\n",
       "    </tr>\n",
       "  </thead>\n",
       "  <tbody>\n",
       "    <tr>\n",
       "      <th>4302</th>\n",
       "      <td>ST.JAMES'S SURGERY</td>\n",
       "      <td>45 UPPER OLDFIELD PARK</td>\n",
       "      <td></td>\n",
       "      <td>BATH</td>\n",
       "      <td></td>\n",
       "    </tr>\n",
       "  </tbody>\n",
       "</table>\n",
       "</div>"
      ],
      "text/plain": [
       "                                     prac_name                   prac_org  \\\n",
       "4302  ST.JAMES'S SURGERY                        45 UPPER OLDFIELD PARK      \n",
       "\n",
       "                         street                       city  \\\n",
       "4302                             BATH                        \n",
       "\n",
       "                           area  \n",
       "4302                             "
      ]
     },
     "execution_count": 27,
     "metadata": {},
     "output_type": "execute_result"
    }
   ],
   "source": [
    "# finding the practice with the lowest cost per patient among the outliers\n",
    "address_apr2018[address_apr2018[\"prac_code\"] == \"L81080\"].iloc[:,2:7]"
   ]
  },
  {
   "cell_type": "code",
   "execution_count": 28,
   "metadata": {},
   "outputs": [
    {
     "data": {
      "text/html": [
       "<div>\n",
       "<style scoped>\n",
       "    .dataframe tbody tr th:only-of-type {\n",
       "        vertical-align: middle;\n",
       "    }\n",
       "\n",
       "    .dataframe tbody tr th {\n",
       "        vertical-align: top;\n",
       "    }\n",
       "\n",
       "    .dataframe thead th {\n",
       "        text-align: right;\n",
       "    }\n",
       "</style>\n",
       "<table border=\"1\" class=\"dataframe\">\n",
       "  <thead>\n",
       "    <tr style=\"text-align: right;\">\n",
       "      <th></th>\n",
       "      <th>bnf_name</th>\n",
       "      <th>items</th>\n",
       "      <th>nic</th>\n",
       "      <th>act_cost</th>\n",
       "    </tr>\n",
       "  </thead>\n",
       "  <tbody>\n",
       "    <tr>\n",
       "      <th>7468347</th>\n",
       "      <td>Fluoxetine HCl_Cap 20mg</td>\n",
       "      <td>1</td>\n",
       "      <td>0.58</td>\n",
       "      <td>0.55</td>\n",
       "    </tr>\n",
       "    <tr>\n",
       "      <th>7468345</th>\n",
       "      <td>Losartan Pot_Tab 50mg</td>\n",
       "      <td>1</td>\n",
       "      <td>1.14</td>\n",
       "      <td>1.07</td>\n",
       "    </tr>\n",
       "    <tr>\n",
       "      <th>7468348</th>\n",
       "      <td>Codeine Phos_Tab 15mg</td>\n",
       "      <td>1</td>\n",
       "      <td>1.30</td>\n",
       "      <td>1.22</td>\n",
       "    </tr>\n",
       "    <tr>\n",
       "      <th>7468346</th>\n",
       "      <td>Amlodipine_Tab 5mg</td>\n",
       "      <td>1</td>\n",
       "      <td>1.43</td>\n",
       "      <td>1.34</td>\n",
       "    </tr>\n",
       "    <tr>\n",
       "      <th>7468349</th>\n",
       "      <td>Tramadol HCl_Cap 50mg</td>\n",
       "      <td>1</td>\n",
       "      <td>2.46</td>\n",
       "      <td>2.39</td>\n",
       "    </tr>\n",
       "    <tr>\n",
       "      <th>7468352</th>\n",
       "      <td>Colecal_Cap 800u</td>\n",
       "      <td>1</td>\n",
       "      <td>3.36</td>\n",
       "      <td>3.23</td>\n",
       "    </tr>\n",
       "    <tr>\n",
       "      <th>7468350</th>\n",
       "      <td>Rigevidon_Tab</td>\n",
       "      <td>1</td>\n",
       "      <td>3.78</td>\n",
       "      <td>3.52</td>\n",
       "    </tr>\n",
       "    <tr>\n",
       "      <th>7468351</th>\n",
       "      <td>Desogestrel_Tab 75mcg</td>\n",
       "      <td>1</td>\n",
       "      <td>5.90</td>\n",
       "      <td>5.48</td>\n",
       "    </tr>\n",
       "  </tbody>\n",
       "</table>\n",
       "</div>"
      ],
      "text/plain": [
       "                                         bnf_name  items   nic  act_cost\n",
       "7468347  Fluoxetine HCl_Cap 20mg                       1  0.58      0.55\n",
       "7468345  Losartan Pot_Tab 50mg                         1  1.14      1.07\n",
       "7468348  Codeine Phos_Tab 15mg                         1  1.30      1.22\n",
       "7468346  Amlodipine_Tab 5mg                            1  1.43      1.34\n",
       "7468349  Tramadol HCl_Cap 50mg                         1  2.46      2.39\n",
       "7468352  Colecal_Cap 800u                              1  3.36      3.23\n",
       "7468350  Rigevidon_Tab                                 1  3.78      3.52\n",
       "7468351  Desogestrel_Tab 75mcg                         1  5.90      5.48"
      ]
     },
     "execution_count": 28,
     "metadata": {},
     "output_type": "execute_result"
    }
   ],
   "source": [
    "# inspecting all the items prescribed by this surgery in April 2018\n",
    "prescribe_apr2018[prescribe_apr2018[\"prac_code\"] == \"L81080\"].sort_values(by=\"act_cost\").iloc[:,4:8]"
   ]
  },
  {
   "cell_type": "markdown",
   "metadata": {},
   "source": [
    "# Technical Report:\n",
    "- We are interested in the total spending and costs per patient registered across all GPs (n = 7191) in April 2018.\n",
    "- From the scatter plot of monthly total spending per surgery against total number of their registered patients, a clear trend of higher spending with more registered patients can be observed as represented by the fitted trend line. This is reasonable as having a larger registered patient pool would likely lead to more patient visits and thus more prescribed items. The majority of practices fall below around 30,000 registered patients and under £400,000 spending, while a few GPs seem to operate in a larger scale with higher expenditure. There are a couple of suspicious outliers that have many registered patients but with minimal spending, or have very few patients but an unusually high spending.\n",
    "- To further study the distribution of spending per patient registered, a histogram is plotted for the data with a fitted Gaussian curve. This data was modified by removing 1% outliers on both sides of the distribution. The resulting data is roughly normal with minor negative skewness, which means there is slightly more observations at lower spending per patient. The mean is £10.76 and the standard deviation is £2.76. London and Cambridge city fall onto the lower spending per patient registered side with £7.77 and £6.39 respectively.\n",
    "- It is worth looking into the outliers as they may indicate recording errors, problem in the system or true exceptional cases that the NHS may want to consider when making decisions. Among the 144 (2%) extreme GPs, the spending per patient is as high as £2,830.02 or as low as £0.0017. The highest data came from Vernova Healthcare in Macclesfield which is a community interest company owned by 22 practices and provides specialised services such as dermatology and diabetes care (http://www.vernovahealthcare.org/about-us/). This service model may partially explain the mere 8 patients registered. Looking at their prescription spending, the highest 5 presentations made up more than one-third of their £22640.16 total spending. These turn out to be expensive items for severe acne (Isotretinoin, Roaccutane), immunosuppressant drugs possibly for inflammatory skin diseases (Ciclosporin, Tacrolimus), psoriasis (Enstilar), skin cancer or cancer in general (Fluorouracil, Efudix, Aldara), tuberculosis or other bacteria infections (rifampicin) and diabetes management by glucose monitoring (FreeStyle Libre Sensor Kit). The lowest data came from St. James Surgery in Bath, which only had 8 items prescribed in April 2018 despite having 10,908 registered patients. Cases like this may need further inspection.\n"
   ]
  },
  {
   "cell_type": "markdown",
   "metadata": {},
   "source": [
    "## Assignment B"
   ]
  },
  {
   "cell_type": "code",
   "execution_count": 29,
   "metadata": {},
   "outputs": [],
   "source": [
    "# import necessary files as data frames\n",
    "# import \"mortality file 1\"\n",
    "mortality_allyrs_1 = pd.read_csv(\"C:/UCL_DMHR/Morticd10_part1.csv\", header=0, index_col=False, \\\n",
    "                                 dtype={\"SubDiv\": str, \"List\": str})\n",
    "\n",
    "# import \"mortality file 2\"\n",
    "mortality_allyrs_2 = pd.read_csv(\"C:/UCL_DMHR/Morticd10_part2.csv\", header=0, index_col=False, \\\n",
    "                                 dtype={\"SubDiv\": str, \"List\": str})\n",
    "\n",
    "# combine mortality tables\n",
    "mortality_allyrs = mortality_allyrs_1.append(mortality_allyrs_2)\n",
    "\n",
    "# subset entry for year 2010\n",
    "mortality_2010 = mortality_allyrs[mortality_allyrs[\"Year\"] == 2010].copy(deep=True)\n",
    "\n",
    "# import \"population file\"\n",
    "population_allyrs = pd.read_csv(\"C:/UCL_DMHR/pop.csv\", header=0, index_col=False)\n",
    "population_2010 = population_allyrs[population_allyrs[\"Year\"] == 2010].copy(deep=True)\n",
    "\n",
    "# import \"country code lookup table\"\n",
    "country_lookup = pd.read_csv(\"C:/UCL_DMHR/country_codes.csv\", header=0, index_col=False)"
   ]
  },
  {
   "cell_type": "code",
   "execution_count": 30,
   "metadata": {
    "scrolled": false
   },
   "outputs": [
    {
     "name": "stdout",
     "output_type": "stream",
     "text": [
      "<class 'pandas.core.frame.DataFrame'>\n",
      "Int64Index: 3587860 entries, 0 to 2199753\n",
      "Data columns (total 39 columns):\n",
      "Country       int64\n",
      "Admin1        float64\n",
      "SubDiv        object\n",
      "Year          int64\n",
      "List          object\n",
      "Cause         object\n",
      "Sex           int64\n",
      "Frmat         int64\n",
      "IM_Frmat      int64\n",
      "Deaths1       int64\n",
      "Deaths2       float64\n",
      "Deaths3       float64\n",
      "Deaths4       float64\n",
      "Deaths5       float64\n",
      "Deaths6       float64\n",
      "Deaths7       float64\n",
      "Deaths8       float64\n",
      "Deaths9       float64\n",
      "Deaths10      float64\n",
      "Deaths11      float64\n",
      "Deaths12      float64\n",
      "Deaths13      float64\n",
      "Deaths14      float64\n",
      "Deaths15      float64\n",
      "Deaths16      float64\n",
      "Deaths17      float64\n",
      "Deaths18      float64\n",
      "Deaths19      float64\n",
      "Deaths20      float64\n",
      "Deaths21      float64\n",
      "Deaths22      float64\n",
      "Deaths23      float64\n",
      "Deaths24      float64\n",
      "Deaths25      float64\n",
      "Deaths26      float64\n",
      "IM_Deaths1    float64\n",
      "IM_Deaths2    float64\n",
      "IM_Deaths3    float64\n",
      "IM_Deaths4    float64\n",
      "dtypes: float64(30), int64(6), object(3)\n",
      "memory usage: 1.1+ GB\n",
      "None\n",
      "<class 'pandas.core.frame.DataFrame'>\n",
      "RangeIndex: 9349 entries, 0 to 9348\n",
      "Data columns (total 33 columns):\n",
      "Country    9349 non-null int64\n",
      "Admin1     82 non-null float64\n",
      "SubDiv     138 non-null object\n",
      "Year       9349 non-null int64\n",
      "Sex        9349 non-null int64\n",
      "Frmat      9349 non-null int64\n",
      "Pop1       9349 non-null float64\n",
      "Pop2       9213 non-null float64\n",
      "Pop3       9213 non-null float64\n",
      "Pop4       5152 non-null float64\n",
      "Pop5       5152 non-null float64\n",
      "Pop6       5152 non-null float64\n",
      "Pop7       9213 non-null float64\n",
      "Pop8       9195 non-null float64\n",
      "Pop9       9213 non-null float64\n",
      "Pop10      9195 non-null float64\n",
      "Pop11      9213 non-null float64\n",
      "Pop12      9195 non-null float64\n",
      "Pop13      9213 non-null float64\n",
      "Pop14      9195 non-null float64\n",
      "Pop15      9213 non-null float64\n",
      "Pop16      9195 non-null float64\n",
      "Pop17      9213 non-null float64\n",
      "Pop18      9195 non-null float64\n",
      "Pop19      9213 non-null float64\n",
      "Pop20      9151 non-null float64\n",
      "Pop21      9057 non-null float64\n",
      "Pop22      8197 non-null float64\n",
      "Pop23      8197 non-null float64\n",
      "Pop24      1148 non-null float64\n",
      "Pop25      1148 non-null float64\n",
      "Pop26      9195 non-null float64\n",
      "Lb         9125 non-null float64\n",
      "dtypes: float64(28), int64(4), object(1)\n",
      "memory usage: 2.4+ MB\n",
      "None\n",
      "<class 'pandas.core.frame.DataFrame'>\n",
      "RangeIndex: 227 entries, 0 to 226\n",
      "Data columns (total 2 columns):\n",
      "country    227 non-null int64\n",
      "name       227 non-null object\n",
      "dtypes: int64(1), object(1)\n",
      "memory usage: 3.6+ KB\n",
      "None\n"
     ]
    }
   ],
   "source": [
    "# inspect data\n",
    "print(mortality_allyrs.info())\n",
    "print(population_allyrs.info())\n",
    "print(country_lookup.info())"
   ]
  },
  {
   "cell_type": "code",
   "execution_count": 31,
   "metadata": {
    "scrolled": false
   },
   "outputs": [
    {
     "name": "stdout",
     "output_type": "stream",
     "text": [
      "Country             0\n",
      "Admin1        3503687\n",
      "SubDiv        3585153\n",
      "Year                0\n",
      "List                0\n",
      "Cause               0\n",
      "Sex                 0\n",
      "Frmat               0\n",
      "IM_Frmat            0\n",
      "Deaths1             0\n",
      "Deaths2          2242\n",
      "Deaths3          2242\n",
      "Deaths4        167248\n",
      "Deaths5        167248\n",
      "Deaths6        167248\n",
      "Deaths7          2242\n",
      "Deaths8          5227\n",
      "Deaths9          2242\n",
      "Deaths10         5227\n",
      "Deaths11         2242\n",
      "Deaths12         5227\n",
      "Deaths13         2242\n",
      "Deaths14         5227\n",
      "Deaths15         2242\n",
      "Deaths16         5227\n",
      "Deaths17         2242\n",
      "Deaths18         5227\n",
      "Deaths19         2242\n",
      "Deaths20         5551\n",
      "Deaths21         2566\n",
      "Deaths22        13418\n",
      "Deaths23        13418\n",
      "Deaths24       478567\n",
      "Deaths25       478567\n",
      "Deaths26         2242\n",
      "IM_Deaths1       2243\n",
      "IM_Deaths2     808389\n",
      "IM_Deaths3     719169\n",
      "IM_Deaths4     719169\n",
      "dtype: int64\n",
      "Country       0\n",
      "Admin1     9267\n",
      "SubDiv     9211\n",
      "Year          0\n",
      "Sex           0\n",
      "Frmat         0\n",
      "Pop1          0\n",
      "Pop2        136\n",
      "Pop3        136\n",
      "Pop4       4197\n",
      "Pop5       4197\n",
      "Pop6       4197\n",
      "Pop7        136\n",
      "Pop8        154\n",
      "Pop9        136\n",
      "Pop10       154\n",
      "Pop11       136\n",
      "Pop12       154\n",
      "Pop13       136\n",
      "Pop14       154\n",
      "Pop15       136\n",
      "Pop16       154\n",
      "Pop17       136\n",
      "Pop18       154\n",
      "Pop19       136\n",
      "Pop20       198\n",
      "Pop21       292\n",
      "Pop22      1152\n",
      "Pop23      1152\n",
      "Pop24      8201\n",
      "Pop25      8201\n",
      "Pop26       154\n",
      "Lb          224\n",
      "dtype: int64\n",
      "country    0\n",
      "name       0\n",
      "dtype: int64\n"
     ]
    }
   ],
   "source": [
    "# check nulls\n",
    "print(mortality_allyrs.isnull().sum())\n",
    "print(population_allyrs.isnull().sum())\n",
    "print(country_lookup.isnull().sum())"
   ]
  },
  {
   "cell_type": "markdown",
   "metadata": {},
   "source": [
    "It is reasonable to have missing values for global census data across 13 years (both mortality and population). Important information such as \"country\", \"year\" and \"cause\" are not missing. Country-specific missingness will be checked later."
   ]
  },
  {
   "cell_type": "markdown",
   "metadata": {},
   "source": [
    "### B1. What was the population and the total number of deaths (from all causes, all ages) in 2010 for:\n",
    "- Iceland\n",
    "- Italy\n",
    "- New Zealand"
   ]
  },
  {
   "cell_type": "code",
   "execution_count": 32,
   "metadata": {},
   "outputs": [
    {
     "name": "stdout",
     "output_type": "stream",
     "text": [
      "Country    0\n",
      "Admin1     2\n",
      "SubDiv     2\n",
      "Year       0\n",
      "Sex        0\n",
      "Frmat      0\n",
      "Pop1       0\n",
      "Pop2       0\n",
      "Pop3       0\n",
      "Pop4       0\n",
      "Pop5       0\n",
      "Pop6       0\n",
      "Pop7       0\n",
      "Pop8       0\n",
      "Pop9       0\n",
      "Pop10      0\n",
      "Pop11      0\n",
      "Pop12      0\n",
      "Pop13      0\n",
      "Pop14      0\n",
      "Pop15      0\n",
      "Pop16      0\n",
      "Pop17      0\n",
      "Pop18      0\n",
      "Pop19      0\n",
      "Pop20      0\n",
      "Pop21      0\n",
      "Pop22      0\n",
      "Pop23      0\n",
      "Pop24      0\n",
      "Pop25      0\n",
      "Pop26      0\n",
      "Lb         0\n",
      "dtype: int64\n",
      "Country         0\n",
      "Admin1        339\n",
      "SubDiv        339\n",
      "Year            0\n",
      "List            0\n",
      "Cause           0\n",
      "Sex             0\n",
      "Frmat           0\n",
      "IM_Frmat        0\n",
      "Deaths1         0\n",
      "Deaths2         0\n",
      "Deaths3         0\n",
      "Deaths4         0\n",
      "Deaths5         0\n",
      "Deaths6         0\n",
      "Deaths7         0\n",
      "Deaths8         0\n",
      "Deaths9         0\n",
      "Deaths10        0\n",
      "Deaths11        0\n",
      "Deaths12        0\n",
      "Deaths13        0\n",
      "Deaths14        0\n",
      "Deaths15        0\n",
      "Deaths16        0\n",
      "Deaths17        0\n",
      "Deaths18        0\n",
      "Deaths19        0\n",
      "Deaths20        0\n",
      "Deaths21        0\n",
      "Deaths22        0\n",
      "Deaths23        0\n",
      "Deaths24        0\n",
      "Deaths25        0\n",
      "Deaths26        0\n",
      "IM_Deaths1      0\n",
      "IM_Deaths2      0\n",
      "IM_Deaths3      0\n",
      "IM_Deaths4      0\n",
      "dtype: int64\n",
      "In 2010, Iceland's population was 318041 and the total number of deaths was 4038, which was 1.27% of the total population.\n"
     ]
    }
   ],
   "source": [
    "Iceland = country_lookup[country_lookup[\"name\"] == \"Iceland\"][\"country\"].item()\n",
    "print(population_2010[population_2010[\"Country\"] == Iceland].isnull().sum()) # check missingness\n",
    "print(mortality_2010[mortality_2010[\"Country\"] == Iceland].isnull().sum()) # check missingness\n",
    "ISL_popn = population_2010[population_2010[\"Country\"] == Iceland][\"Pop1\"].sum().astype(int)\n",
    "ISL_mort = mortality_2010[mortality_2010[\"Country\"] == Iceland][\"Deaths1\"].sum()\n",
    "print(\"In 2010, Iceland's population was %s and the total number of deaths was %s, which was %.2f%% of the total population.\"\\\n",
    "      % (ISL_popn, ISL_mort, ISL_mort/ISL_popn*100))"
   ]
  },
  {
   "cell_type": "code",
   "execution_count": 33,
   "metadata": {},
   "outputs": [
    {
     "name": "stdout",
     "output_type": "stream",
     "text": [
      "Country    0\n",
      "Admin1     2\n",
      "SubDiv     2\n",
      "Year       0\n",
      "Sex        0\n",
      "Frmat      0\n",
      "Pop1       0\n",
      "Pop2       0\n",
      "Pop3       0\n",
      "Pop4       0\n",
      "Pop5       0\n",
      "Pop6       0\n",
      "Pop7       0\n",
      "Pop8       0\n",
      "Pop9       0\n",
      "Pop10      0\n",
      "Pop11      0\n",
      "Pop12      0\n",
      "Pop13      0\n",
      "Pop14      0\n",
      "Pop15      0\n",
      "Pop16      0\n",
      "Pop17      0\n",
      "Pop18      0\n",
      "Pop19      0\n",
      "Pop20      0\n",
      "Pop21      0\n",
      "Pop22      0\n",
      "Pop23      0\n",
      "Pop24      0\n",
      "Pop25      0\n",
      "Pop26      0\n",
      "Lb         0\n",
      "dtype: int64\n",
      "Country          0\n",
      "Admin1        4970\n",
      "SubDiv        4970\n",
      "Year             0\n",
      "List             0\n",
      "Cause            0\n",
      "Sex              0\n",
      "Frmat            0\n",
      "IM_Frmat         0\n",
      "Deaths1          0\n",
      "Deaths2          0\n",
      "Deaths3          0\n",
      "Deaths4          0\n",
      "Deaths5          0\n",
      "Deaths6          0\n",
      "Deaths7          0\n",
      "Deaths8          0\n",
      "Deaths9          0\n",
      "Deaths10         0\n",
      "Deaths11         0\n",
      "Deaths12         0\n",
      "Deaths13         0\n",
      "Deaths14         0\n",
      "Deaths15         0\n",
      "Deaths16         0\n",
      "Deaths17         0\n",
      "Deaths18         0\n",
      "Deaths19         0\n",
      "Deaths20         0\n",
      "Deaths21         0\n",
      "Deaths22         0\n",
      "Deaths23         0\n",
      "Deaths24         0\n",
      "Deaths25         0\n",
      "Deaths26         0\n",
      "IM_Deaths1       0\n",
      "IM_Deaths2       0\n",
      "IM_Deaths3       0\n",
      "IM_Deaths4       0\n",
      "dtype: int64\n",
      "In 2010, Italy's population was 60483386 and the total number of deaths was 1169230, which was 1.93% of the total population.\n"
     ]
    }
   ],
   "source": [
    "Italy = country_lookup[country_lookup[\"name\"] == \"Italy\"][\"country\"].item()\n",
    "print(population_2010[population_2010[\"Country\"] == Italy].isnull().sum()) # check missingness\n",
    "print(mortality_2010[mortality_2010[\"Country\"] == Italy].isnull().sum()) # check missingness\n",
    "ITA_popn = population_2010[population_2010[\"Country\"] == Italy][\"Pop1\"].sum().astype(int)\n",
    "ITA_mort = mortality_2010[mortality_2010[\"Country\"] == Italy][\"Deaths1\"].sum()\n",
    "print(\"In 2010, Italy's population was %s and the total number of deaths was %s, which was %.2f%% of the total population.\"\\\n",
    "      % (ITA_popn, ITA_mort, ITA_mort/ITA_popn*100))"
   ]
  },
  {
   "cell_type": "code",
   "execution_count": 34,
   "metadata": {},
   "outputs": [
    {
     "name": "stdout",
     "output_type": "stream",
     "text": [
      "Country    0\n",
      "Admin1     2\n",
      "SubDiv     2\n",
      "Year       0\n",
      "Sex        0\n",
      "Frmat      0\n",
      "Pop1       0\n",
      "Pop2       0\n",
      "Pop3       0\n",
      "Pop4       0\n",
      "Pop5       0\n",
      "Pop6       0\n",
      "Pop7       0\n",
      "Pop8       0\n",
      "Pop9       0\n",
      "Pop10      0\n",
      "Pop11      0\n",
      "Pop12      0\n",
      "Pop13      0\n",
      "Pop14      0\n",
      "Pop15      0\n",
      "Pop16      0\n",
      "Pop17      0\n",
      "Pop18      0\n",
      "Pop19      0\n",
      "Pop20      0\n",
      "Pop21      0\n",
      "Pop22      0\n",
      "Pop23      0\n",
      "Pop24      2\n",
      "Pop25      2\n",
      "Pop26      0\n",
      "Lb         0\n",
      "dtype: int64\n",
      "Country          0\n",
      "Admin1        2073\n",
      "SubDiv        2073\n",
      "Year             0\n",
      "List             0\n",
      "Cause            0\n",
      "Sex              0\n",
      "Frmat            0\n",
      "IM_Frmat         0\n",
      "Deaths1          0\n",
      "Deaths2          0\n",
      "Deaths3          0\n",
      "Deaths4          0\n",
      "Deaths5          0\n",
      "Deaths6          0\n",
      "Deaths7          0\n",
      "Deaths8          0\n",
      "Deaths9          0\n",
      "Deaths10         0\n",
      "Deaths11         0\n",
      "Deaths12         0\n",
      "Deaths13         0\n",
      "Deaths14         0\n",
      "Deaths15         0\n",
      "Deaths16         0\n",
      "Deaths17         0\n",
      "Deaths18         0\n",
      "Deaths19         0\n",
      "Deaths20         0\n",
      "Deaths21         0\n",
      "Deaths22         0\n",
      "Deaths23         0\n",
      "Deaths24         0\n",
      "Deaths25         0\n",
      "Deaths26         0\n",
      "IM_Deaths1       0\n",
      "IM_Deaths2       0\n",
      "IM_Deaths3       0\n",
      "IM_Deaths4       0\n",
      "dtype: int64\n",
      "In 2010, New Zealand's population was 4367360 and the total number of deaths was 57298, which was 1.31% of the total population.\n"
     ]
    }
   ],
   "source": [
    "NewZealand = country_lookup[country_lookup[\"name\"] == \"New Zealand\"][\"country\"].item()\n",
    "print(population_2010[population_2010[\"Country\"] == NewZealand].isnull().sum()) # check missingness\n",
    "print(mortality_2010[mortality_2010[\"Country\"] == NewZealand].isnull().sum()) # check missingness\n",
    "NZL_popn = population_2010[population_2010[\"Country\"] == NewZealand][\"Pop1\"].sum().astype(int)\n",
    "NZL_mort = mortality_2010[mortality_2010[\"Country\"] == NewZealand][\"Deaths1\"].sum()\n",
    "print(\"In 2010, New Zealand's population was %s and the total number of deaths was %s, which was %.2f%% of the total population.\"\\\n",
    "      % (NZL_popn, NZL_mort, NZL_mort/NZL_popn*100))"
   ]
  },
  {
   "cell_type": "markdown",
   "metadata": {},
   "source": [
    "Population data for male and female age groups \"90-94\" and \"95+\" for New Zealand in 2010 is missing, their contribution to the sum should be 0, possibly leading to some underestimation. However, mortality data for the same groups are present."
   ]
  },
  {
   "cell_type": "markdown",
   "metadata": {},
   "source": [
    "# Technical Report:\n",
    "- This report analyses mortality data from several countries captured by ICD-10 codes. While permitting international comparison of health care data, the shortcomings of ICD-10 are its fixed-depth and the frequent referencing to “not specified” terms leading to information loss.\n",
    "- In 2010, Iceland’s population was 318,041 and the total number of deaths was 4038, which was 1.27% of the total population. Italy's population was 60483386 and the total number of deaths was 1169230, which was 1.93% of the total population. New Zealand's population was 4367360 and the total number of deaths was 57298, which was 1.31% of the total population. Although varying in size, all these countries had a similar proportion of death comparing to the living population."
   ]
  },
  {
   "cell_type": "markdown",
   "metadata": {},
   "source": [
    "### B2. What was the distribution of deaths (all causes, all years) by age group in Italy?"
   ]
  },
  {
   "cell_type": "code",
   "execution_count": 35,
   "metadata": {
    "scrolled": false
   },
   "outputs": [
    {
     "name": "stdout",
     "output_type": "stream",
     "text": [
      "Country           0\n",
      "Admin1        63356\n",
      "SubDiv        63356\n",
      "Year              0\n",
      "List              0\n",
      "Cause             0\n",
      "Sex               0\n",
      "Frmat             0\n",
      "IM_Frmat          0\n",
      "Deaths1           0\n",
      "Deaths2           0\n",
      "Deaths3           0\n",
      "Deaths4           0\n",
      "Deaths5           0\n",
      "Deaths6           0\n",
      "Deaths7           0\n",
      "Deaths8           0\n",
      "Deaths9           0\n",
      "Deaths10          0\n",
      "Deaths11          0\n",
      "Deaths12          0\n",
      "Deaths13          0\n",
      "Deaths14          0\n",
      "Deaths15          0\n",
      "Deaths16          0\n",
      "Deaths17          0\n",
      "Deaths18          0\n",
      "Deaths19          0\n",
      "Deaths20          0\n",
      "Deaths21          0\n",
      "Deaths22          0\n",
      "Deaths23          0\n",
      "Deaths24          0\n",
      "Deaths25          0\n",
      "Deaths26          0\n",
      "IM_Deaths1        0\n",
      "IM_Deaths2        0\n",
      "IM_Deaths3        0\n",
      "IM_Deaths4        0\n",
      "dtype: int64\n"
     ]
    },
    {
     "data": {
      "image/png": "[encoded data removed]",
      "text/plain": [
       "<Figure size 864x432 with 1 Axes>"
      ]
     },
     "metadata": {},
     "output_type": "display_data"
    }
   ],
   "source": [
    "ITA_mortality_allyrs = mortality_allyrs[mortality_allyrs[\"Country\"] == Italy].copy(deep=True)\n",
    "print(ITA_mortality_allyrs.isnull().sum()) # check missingness\n",
    "# group ages 0-4\n",
    "ITA_mortality_allyrs[\"Deaths2_6\"] = ITA_mortality_allyrs[\"Deaths2\"] + ITA_mortality_allyrs[\"Deaths3\"] +\\\n",
    "    ITA_mortality_allyrs[\"Deaths4\"] + ITA_mortality_allyrs[\"Deaths5\"] + ITA_mortality_allyrs[\"Deaths6\"]\n",
    "# add sum row\n",
    "ITA_mortality_allyrs.loc[\"Total_deaths\"] = ITA_mortality_allyrs.sum(axis=0, numeric_only=True)\n",
    "\n",
    "# making the \"histogram\"\n",
    "left = list(range(0, 100, 5))\n",
    "height = [ITA_mortality_allyrs.loc[\"Total_deaths\", \"Deaths2_6\"]]\n",
    "height.extend(list(ITA_mortality_allyrs.iloc[-1, 15:-6]))\n",
    "tick_label = [\"0-4\", \"5-9\", \"10-14\", \"15-19\", \"20-24\", \"25-29\", \"30-34\", \"35-39\", \"40-44\", \"45-49\", \"50-54\", \"55-59\", \\\n",
    "              \"60-64\", \"65-69\", \"70-74\", \"75-79\", \"80-84\", \"85-89\", \"90-94\", \"95+\"]\n",
    "\n",
    "fig0 = plt.figure(figsize=(12, 6))\n",
    "plt1 = fig0.add_subplot(111)\n",
    "plt1.bar(left, height, tick_label=tick_label, width=5, color=[\"skyblue\"])\n",
    "plt1.set_xlabel(\"age groups (years)\", fontsize=15)\n",
    "plt1.set_ylabel(\"number of deaths\", fontsize=15)\n",
    "plt.title(\"All years all cause deaths in Italy by age groups\", fontsize=20)\n",
    "\n",
    "plt.grid(axis=\"y\", linestyle=\"--\")\n",
    "plt.show()"
   ]
  },
  {
   "cell_type": "markdown",
   "metadata": {},
   "source": [
    "# Technical Report:\n",
    "- While histogram is the preferred visualisation of such a distribution, the data comes in age bands which avoided the need to categorise continuous data into multiple bins. Therefore, a bar chart is plotted with no gaps to mimic a histogram. The data takes a highly negatively skewed distribution peaking at 80 to 89 years old. Number of deaths drop from 90 years on likely due to a much smaller population that lived up to that age. There is a slightly higher number of deaths at 0 to 4 years old than that for teenagers and young adults likely due to birth complications and paediatric diseases."
   ]
  },
  {
   "cell_type": "markdown",
   "metadata": {},
   "source": [
    "### B3. What were the top five causes of death (top five ICD-10 terms) in Italy across all years for the Neoplasm ICD10-category (C00-D48)?"
   ]
  },
  {
   "cell_type": "code",
   "execution_count": 36,
   "metadata": {},
   "outputs": [
    {
     "name": "stdout",
     "output_type": "stream",
     "text": [
      "(620, 3)\n"
     ]
    },
    {
     "data": {
      "text/html": [
       "<div>\n",
       "<style scoped>\n",
       "    .dataframe tbody tr th:only-of-type {\n",
       "        vertical-align: middle;\n",
       "    }\n",
       "\n",
       "    .dataframe tbody tr th {\n",
       "        vertical-align: top;\n",
       "    }\n",
       "\n",
       "    .dataframe thead th {\n",
       "        text-align: right;\n",
       "    }\n",
       "</style>\n",
       "<table border=\"1\" class=\"dataframe\">\n",
       "  <thead>\n",
       "    <tr style=\"text-align: right;\">\n",
       "      <th></th>\n",
       "      <th>Cause</th>\n",
       "      <th>Deaths</th>\n",
       "      <th>Proportion</th>\n",
       "    </tr>\n",
       "  </thead>\n",
       "  <tbody>\n",
       "    <tr>\n",
       "      <th>0</th>\n",
       "      <td>C000</td>\n",
       "      <td>68</td>\n",
       "      <td>3.024022e-05</td>\n",
       "    </tr>\n",
       "    <tr>\n",
       "      <th>1</th>\n",
       "      <td>C001</td>\n",
       "      <td>355</td>\n",
       "      <td>1.578717e-04</td>\n",
       "    </tr>\n",
       "    <tr>\n",
       "      <th>2</th>\n",
       "      <td>C002</td>\n",
       "      <td>1</td>\n",
       "      <td>4.447091e-07</td>\n",
       "    </tr>\n",
       "    <tr>\n",
       "      <th>3</th>\n",
       "      <td>C004</td>\n",
       "      <td>1</td>\n",
       "      <td>4.447091e-07</td>\n",
       "    </tr>\n",
       "    <tr>\n",
       "      <th>4</th>\n",
       "      <td>C005</td>\n",
       "      <td>2</td>\n",
       "      <td>8.894182e-07</td>\n",
       "    </tr>\n",
       "  </tbody>\n",
       "</table>\n",
       "</div>"
      ],
      "text/plain": [
       "  Cause  Deaths    Proportion\n",
       "0  C000      68  3.024022e-05\n",
       "1  C001     355  1.578717e-04\n",
       "2  C002       1  4.447091e-07\n",
       "3  C004       1  4.447091e-07\n",
       "4  C005       2  8.894182e-07"
      ]
     },
     "execution_count": 36,
     "metadata": {},
     "output_type": "execute_result"
    }
   ],
   "source": [
    "# generating the table that focuses on Neoplasm causes of death by ICD-10 codes and their proportions\n",
    "ITA_neoplasm_query = ITA_mortality_allyrs[[\"Cause\", \"Deaths1\"]].query(\"Cause >= 'C00' and Cause < 'D49'\")\n",
    "ITA_neoplasm = pd.DataFrame(ITA_neoplasm_query.groupby(ITA_neoplasm_query.Cause).apply(lambda subf: subf[\"Deaths1\"].sum()))\n",
    "ITA_neoplasm.columns = [\"Deaths\"]\n",
    "ITA_neoplasm.reset_index(inplace=True)\n",
    "ITA_neoplasm[\"Deaths\"] = ITA_neoplasm.Deaths.astype(int)\n",
    "ITA_neoplasm[\"Proportion\"] = ITA_neoplasm[\"Deaths\"] / ITA_neoplasm[\"Deaths\"].sum()\n",
    "\n",
    "print(ITA_neoplasm.shape)\n",
    "ITA_neoplasm.head(5)"
   ]
  },
  {
   "cell_type": "code",
   "execution_count": 37,
   "metadata": {},
   "outputs": [
    {
     "data": {
      "text/html": [
       "<div>\n",
       "<style scoped>\n",
       "    .dataframe tbody tr th:only-of-type {\n",
       "        vertical-align: middle;\n",
       "    }\n",
       "\n",
       "    .dataframe tbody tr th {\n",
       "        vertical-align: top;\n",
       "    }\n",
       "\n",
       "    .dataframe thead th {\n",
       "        text-align: right;\n",
       "    }\n",
       "</style>\n",
       "<table border=\"1\" class=\"dataframe\">\n",
       "  <thead>\n",
       "    <tr style=\"text-align: right;\">\n",
       "      <th></th>\n",
       "      <th>Cause</th>\n",
       "      <th>Deaths</th>\n",
       "      <th>Proportion</th>\n",
       "    </tr>\n",
       "  </thead>\n",
       "  <tbody>\n",
       "    <tr>\n",
       "      <th>0</th>\n",
       "      <td>C349</td>\n",
       "      <td>426451</td>\n",
       "      <td>0.189647</td>\n",
       "    </tr>\n",
       "    <tr>\n",
       "      <th>1</th>\n",
       "      <td>C509</td>\n",
       "      <td>155895</td>\n",
       "      <td>0.069328</td>\n",
       "    </tr>\n",
       "    <tr>\n",
       "      <th>2</th>\n",
       "      <td>C189</td>\n",
       "      <td>143188</td>\n",
       "      <td>0.063677</td>\n",
       "    </tr>\n",
       "    <tr>\n",
       "      <th>3</th>\n",
       "      <td>C169</td>\n",
       "      <td>125679</td>\n",
       "      <td>0.055891</td>\n",
       "    </tr>\n",
       "    <tr>\n",
       "      <th>4</th>\n",
       "      <td>C259</td>\n",
       "      <td>120070</td>\n",
       "      <td>0.053396</td>\n",
       "    </tr>\n",
       "    <tr>\n",
       "      <th>5</th>\n",
       "      <td>others</td>\n",
       "      <td>1277378</td>\n",
       "      <td>0.568062</td>\n",
       "    </tr>\n",
       "  </tbody>\n",
       "</table>\n",
       "</div>"
      ],
      "text/plain": [
       "    Cause   Deaths  Proportion\n",
       "0    C349   426451    0.189647\n",
       "1    C509   155895    0.069328\n",
       "2    C189   143188    0.063677\n",
       "3    C169   125679    0.055891\n",
       "4    C259   120070    0.053396\n",
       "5  others  1277378    0.568062"
      ]
     },
     "execution_count": 37,
     "metadata": {},
     "output_type": "execute_result"
    }
   ],
   "source": [
    "# data frame of top 5 proportions plus others \n",
    "ITA_top5 = ITA_neoplasm.sort_values(by=[\"Proportion\"], ascending=False).iloc[:5, ]\n",
    "ITA_top5.reset_index(drop=True, inplace=True)\n",
    "other_deaths = ITA_neoplasm.Deaths.sum() - ITA_top5.Deaths.sum()\n",
    "other_proportion = 1 - ITA_top5.Proportion.sum()\n",
    "ITA_top5.loc[5] = [\"others\", other_deaths, other_proportion]\n",
    "ITA_top5"
   ]
  },
  {
   "cell_type": "code",
   "execution_count": 38,
   "metadata": {},
   "outputs": [
    {
     "data": {
      "text/html": [
       "<div>\n",
       "<style scoped>\n",
       "    .dataframe tbody tr th:only-of-type {\n",
       "        vertical-align: middle;\n",
       "    }\n",
       "\n",
       "    .dataframe tbody tr th {\n",
       "        vertical-align: top;\n",
       "    }\n",
       "\n",
       "    .dataframe thead th {\n",
       "        text-align: right;\n",
       "    }\n",
       "</style>\n",
       "<table border=\"1\" class=\"dataframe\">\n",
       "  <thead>\n",
       "    <tr style=\"text-align: right;\">\n",
       "      <th></th>\n",
       "      <th>Cause</th>\n",
       "      <th>Deaths</th>\n",
       "      <th>Proportion</th>\n",
       "    </tr>\n",
       "  </thead>\n",
       "  <tbody>\n",
       "    <tr>\n",
       "      <th>138</th>\n",
       "      <td>C340</td>\n",
       "      <td>572</td>\n",
       "      <td>0.000254</td>\n",
       "    </tr>\n",
       "    <tr>\n",
       "      <th>139</th>\n",
       "      <td>C341</td>\n",
       "      <td>2057</td>\n",
       "      <td>0.000915</td>\n",
       "    </tr>\n",
       "    <tr>\n",
       "      <th>140</th>\n",
       "      <td>C342</td>\n",
       "      <td>143</td>\n",
       "      <td>0.000064</td>\n",
       "    </tr>\n",
       "    <tr>\n",
       "      <th>141</th>\n",
       "      <td>C343</td>\n",
       "      <td>670</td>\n",
       "      <td>0.000298</td>\n",
       "    </tr>\n",
       "    <tr>\n",
       "      <th>142</th>\n",
       "      <td>C348</td>\n",
       "      <td>176</td>\n",
       "      <td>0.000078</td>\n",
       "    </tr>\n",
       "    <tr>\n",
       "      <th>143</th>\n",
       "      <td>C349</td>\n",
       "      <td>426451</td>\n",
       "      <td>0.189647</td>\n",
       "    </tr>\n",
       "  </tbody>\n",
       "</table>\n",
       "</div>"
      ],
      "text/plain": [
       "    Cause  Deaths  Proportion\n",
       "138  C340     572    0.000254\n",
       "139  C341    2057    0.000915\n",
       "140  C342     143    0.000064\n",
       "141  C343     670    0.000298\n",
       "142  C348     176    0.000078\n",
       "143  C349  426451    0.189647"
      ]
     },
     "execution_count": 38,
     "metadata": {},
     "output_type": "execute_result"
    }
   ],
   "source": [
    "# inspecting lung/bronchus neoplasm cases that are specified (excluded by C34.9 unspecified)\n",
    "ITA_neoplasm[ITA_neoplasm[\"Cause\"].str.startswith(\"C34\")]"
   ]
  },
  {
   "cell_type": "code",
   "execution_count": 39,
   "metadata": {
    "scrolled": false
   },
   "outputs": [
    {
     "data": {
      "image/png": "[encoded data removed]",
      "text/plain": [
       "<Figure size 432x432 with 1 Axes>"
      ]
     },
     "metadata": {},
     "output_type": "display_data"
    }
   ],
   "source": [
    "# pie chart for the data above\n",
    "neoplasm = [\"Bronchus or Lung, unspecified\", \"Breast, unspecified\", \"Colon, unspecified\", \"Stomach, unspecified\",\\\n",
    "            \"Pancreas, unspecified\", \"Others\"]\n",
    "colours = [\"skyblue\", \"mediumspringgreen\", \"hotpink\", \"orchid\", \"gold\", \"lightgrey\"]\n",
    "\n",
    "fig1 = plt.figure(figsize=(6, 6))\n",
    "plt1 = fig1.add_subplot(111)\n",
    "plt1.pie(ITA_top5[\"Proportion\"], labels=neoplasm, colors=colours, startangle=90, counterclock=False, autopct=\"%1.1f%%\")\n",
    "plt.title(\"Top 5 ICD-10 coded neoplasm causes of death in Italy from 2003-2015\", fontsize=15)\n",
    "plt.show()"
   ]
  },
  {
   "cell_type": "markdown",
   "metadata": {},
   "source": [
    "# Technical Report:\n",
    "- The top five neoplasm causes of death across all years (2003-2015) as recorded by ICD-10 in Italy are in descending order C34.9 (Malignant neoplasm: Bronchus or lung, unspecified; 19.0%), C50.9 (Malignant neoplasm: Breast, unspecified; 6.9%), C18.9 (Malignant neoplasm: Colon, unspecified; 6.4%), C16.9 (Malignant neoplasm: Stomach, unspecified; 5.6%), and C25.9 (Malignant neoplasm: Pancreas, unspecified; 5.3%). Bronchus and lung cancers take up almost a fifth of the pie and these 5 terms contributed to over one-third of all neoplasm causes of death.\n",
    "- According to World Health Organisation which draws references from global burden of cancer studies, up to 2018 lung cancers are still the most prevalent and most common cause of cancer deaths (https://www.who.int/news-room/fact-sheets/detail/cancer). This is consistent with results from Italy. Breast, colorectal (including colon) and stomach cancers are also among the top 5 global cancer killers.\n",
    "- However, it is important to address the problem with ICD-10 codes because all of the top 5 causes identified for Italy here are “unspecified”. For example, since only one code is used to represent the death cause, having C34.9 excludes cases with specified cases such as C34.1 (Malignant neoplasm: Upper lobe, bronchus or lung) and those 2,057 cases were not counted when comparing the top 5 ICD-10 terms recorded. Because different neoplasms have different ICD-10 granularity, some cancers may be more underrepresented than others. This is also affected by how the causes are coded, which is influenced by variation by individuals, department, hospitals, policies and so on. If this ICD-10 data is converted from a different local coding system, the process may introduce bias and possibly errors. While analyses of ICD-10 terms are still useful for obtaining an overview of the epidemiology, it is important to consider these biases and confounders when interpreting these results."
   ]
  },
  {
   "cell_type": "markdown",
   "metadata": {},
   "source": [
    "### B4. Are there differences by age group for deaths from Neoplasms (C00-D48) in Australia for 2010?\n",
    "- Identify the top five age groups in Australia dying with a Neoplasms cause of death."
   ]
  },
  {
   "cell_type": "code",
   "execution_count": 40,
   "metadata": {},
   "outputs": [
    {
     "name": "stdout",
     "output_type": "stream",
     "text": [
      "Country          0\n",
      "Admin1        3777\n",
      "SubDiv        3777\n",
      "Year             0\n",
      "List             0\n",
      "Cause            0\n",
      "Sex              0\n",
      "Frmat            0\n",
      "IM_Frmat         0\n",
      "Deaths1          0\n",
      "Deaths2          0\n",
      "Deaths3          0\n",
      "Deaths4          0\n",
      "Deaths5          0\n",
      "Deaths6          0\n",
      "Deaths7          0\n",
      "Deaths8          0\n",
      "Deaths9          0\n",
      "Deaths10         0\n",
      "Deaths11         0\n",
      "Deaths12         0\n",
      "Deaths13         0\n",
      "Deaths14         0\n",
      "Deaths15         0\n",
      "Deaths16         0\n",
      "Deaths17         0\n",
      "Deaths18         0\n",
      "Deaths19         0\n",
      "Deaths20         0\n",
      "Deaths21         0\n",
      "Deaths22         0\n",
      "Deaths23         0\n",
      "Deaths24         0\n",
      "Deaths25         0\n",
      "Deaths26         0\n",
      "IM_Deaths1       0\n",
      "IM_Deaths2       0\n",
      "IM_Deaths3       0\n",
      "IM_Deaths4       0\n",
      "dtype: int64\n"
     ]
    },
    {
     "data": {
      "text/plain": [
       "Deaths1     43316\n",
       "Deaths22     7167\n",
       "Deaths21     6291\n",
       "Deaths20     5713\n",
       "Deaths23     5520\n",
       "Deaths19     4768\n",
       "Name: Total_deaths, dtype: object"
      ]
     },
     "execution_count": 40,
     "metadata": {},
     "output_type": "execute_result"
    }
   ],
   "source": [
    "# top 5 age groups in AUS dying with neoplasm cause of death in 2010\n",
    "Australia = country_lookup[country_lookup[\"name\"] == \"Australia\"][\"country\"].item()\n",
    "AUS_mortality_2010 = mortality_2010[mortality_2010[\"Country\"] == Australia].copy(deep=True)\n",
    "print(AUS_mortality_2010.isnull().sum()) # check missingness\n",
    "\n",
    "AUS_neoplasm_2010_query = AUS_mortality_2010.query(\"Cause >= 'C00' and Cause < 'D49'\")\\\n",
    "    .drop([\"Country\", \"Admin1\", \"SubDiv\", \"Year\", \"List\", \"Sex\", \"Frmat\", \"IM_Frmat\"], axis=1)\n",
    "AUS_neoplasm_2010 = pd.DataFrame(AUS_neoplasm_2010_query.groupby(AUS_neoplasm_2010_query.Cause, as_index=False).sum())\n",
    "\n",
    "AUS_neoplasm_2010.loc[\"Total_deaths\"] = AUS_neoplasm_2010.sum(axis=0, numeric_only=True) # added final row as sums\n",
    "\n",
    "AUS_neoplasm_2010.sort_values(by=\"Total_deaths\", axis=1, ascending=False).iloc[-1, :6]"
   ]
  },
  {
   "cell_type": "code",
   "execution_count": 41,
   "metadata": {},
   "outputs": [
    {
     "data": {
      "text/plain": [
       "0.6800951149690645"
      ]
     },
     "execution_count": 41,
     "metadata": {},
     "output_type": "execute_result"
    }
   ],
   "source": [
    "# calculate proportion contributed by top 5 age groups\n",
    "AUS_neoplasm_2010.sort_values(by=\"Total_deaths\", axis=1, ascending=False).iloc[-1, 1:6].sum()/43316"
   ]
  },
  {
   "cell_type": "markdown",
   "metadata": {},
   "source": [
    "# Technical Report:\n",
    "- Deaths1 in the above result corresponds to the sum of death in all age groups.\n",
    "- In 2010, deaths caused by neoplasms in Australia were the highest in the age band of 80-84 years with a count of 7,167. In all 43,316 cancer deaths, this constitutes about one-sixth of the total (7167/43316 = 16.57%). The other groups in the top 5 are 75-79 (6,291 cases), 70-74 (5,713 cases), 85-89 (5,520 cases) and 65-69 (4,768 cases) in descending order. Together, in this year 68.01% of deaths by neoplasms occurred in people aged between 65 and 89 years old."
   ]
  },
  {
   "cell_type": "markdown",
   "metadata": {},
   "source": [
    "### B5. Compare and contrast the frequency of deaths by Neoplasms in Italy and Australia in 2010."
   ]
  },
  {
   "cell_type": "code",
   "execution_count": 42,
   "metadata": {},
   "outputs": [
    {
     "data": {
      "text/plain": [
       "Deaths1     175046\n",
       "Deaths22     31509\n",
       "Deaths21     29884\n",
       "Deaths20     25258\n",
       "Deaths23     23794\n",
       "Deaths19     17890\n",
       "Name: Total_deaths, dtype: object"
      ]
     },
     "execution_count": 42,
     "metadata": {},
     "output_type": "execute_result"
    }
   ],
   "source": [
    "# Top 5 age groups in Italy with a neoplasm cause of death\n",
    "ITA_mortality_2010 = mortality_2010[mortality_2010[\"Country\"] == Italy].copy(deep=True)\n",
    "ITA_neoplasm_2010_query = ITA_mortality_2010.query(\"Cause >= 'C00' and Cause < 'D49'\")\\\n",
    "    .drop([\"Country\", \"Admin1\", \"SubDiv\", \"Year\", \"List\", \"Sex\", \"Frmat\", \"IM_Frmat\"], axis=1)\n",
    "ITA_neoplasm_2010 = pd.DataFrame(ITA_neoplasm_2010_query.groupby(ITA_neoplasm_2010_query.Cause, as_index=False).sum())\n",
    "\n",
    "ITA_neoplasm_2010.loc[\"Total_deaths\"] = ITA_neoplasm_2010.sum(axis=0, numeric_only=True) # added final row as sums\n",
    "\n",
    "ITA_neoplasm_2010.sort_values(by=\"Total_deaths\", axis=1, ascending=False).iloc[-1, :6]"
   ]
  },
  {
   "cell_type": "code",
   "execution_count": 43,
   "metadata": {},
   "outputs": [
    {
     "data": {
      "text/plain": [
       "0.7331501433908801"
      ]
     },
     "execution_count": 43,
     "metadata": {},
     "output_type": "execute_result"
    }
   ],
   "source": [
    "# calculate proportion contributed by top 5 age groups\n",
    "ITA_neoplasm_2010.sort_values(by=\"Total_deaths\", axis=1, ascending=False).iloc[-1, 1:6].sum()/175046"
   ]
  },
  {
   "cell_type": "markdown",
   "metadata": {},
   "source": [
    "# Technical Report:\n",
    "- Focusing again on year 2010, the top 5 age groups with the highest deaths by neoplasm was inspected. The top group is the same as Australia which is 80-84 years old. In all 175,046 cancer deaths, this constitutes more than one-sixth of the total (31,509/175,046 = 18.00%). The remaining groups are 75-79 (29884 cases), 70-74 (25258 cases), 85-89 (23794 cases) and 65—69 (17890 cases) in descending order, which is the same ranking as Australia. However, in combination they contributed to 73.32% of all deaths by neoplasms, which is about 5% higher than in Australia. "
   ]
  },
  {
   "cell_type": "code",
   "execution_count": 44,
   "metadata": {},
   "outputs": [
    {
     "name": "stdout",
     "output_type": "stream",
     "text": [
      "Country    0\n",
      "Admin1     2\n",
      "SubDiv     2\n",
      "Year       0\n",
      "Sex        0\n",
      "Frmat      0\n",
      "Pop1       0\n",
      "Pop2       0\n",
      "Pop3       0\n",
      "Pop4       0\n",
      "Pop5       0\n",
      "Pop6       0\n",
      "Pop7       0\n",
      "Pop8       0\n",
      "Pop9       0\n",
      "Pop10      0\n",
      "Pop11      0\n",
      "Pop12      0\n",
      "Pop13      0\n",
      "Pop14      0\n",
      "Pop15      0\n",
      "Pop16      0\n",
      "Pop17      0\n",
      "Pop18      0\n",
      "Pop19      0\n",
      "Pop20      0\n",
      "Pop21      0\n",
      "Pop22      0\n",
      "Pop23      0\n",
      "Pop24      0\n",
      "Pop25      0\n",
      "Pop26      0\n",
      "Lb         0\n",
      "dtype: int64\n",
      "In 2010, Australia's population was 22297515 and the total number of deaths was 286946.\n",
      "Number of deaths due to neoplasms was 43316 (15.10%).\n",
      "In 2010, Italy's population was 60483386 and the total number of deaths was 1169230.\n",
      "Number of deaths due to neoplasms was 175046 (14.97%).\n"
     ]
    }
   ],
   "source": [
    "# calculating population, total mortality and % due to neoplasms for AUS and ITA\n",
    "AUS_population_2010 = population_2010[population_2010[\"Country\"] == Australia].copy(deep=True)\n",
    "print(AUS_population_2010.isnull().sum()) # check missingness\n",
    "AUS_popn = AUS_population_2010[\"Pop1\"].sum().astype(int)\n",
    "AUS_mort = AUS_mortality_2010[\"Deaths1\"].sum()\n",
    "AUS_mort_neoplasm = AUS_neoplasm_2010.loc[\"Total_deaths\", \"Deaths1\"].astype(int) # total neoplasm deaths\n",
    "print(\"In 2010, Australia's population was %s and the total number of deaths was %s.\" % (AUS_popn, AUS_mort))\n",
    "print(\"Number of deaths due to neoplasms was %s (%.2f%%).\" % (AUS_mort_neoplasm, (AUS_mort_neoplasm / AUS_mort) * 100))\n",
    "\n",
    "# ITA_popn, ITA_mort available from previous tasks\n",
    "ITA_mort_neoplasm = ITA_neoplasm_2010.loc[\"Total_deaths\", \"Deaths1\"].astype(int) # total neoplasm deaths\n",
    "print(\"In 2010, Italy's population was %s and the total number of deaths was %s.\" % (ITA_popn, ITA_mort))\n",
    "print(\"Number of deaths due to neoplasms was %s (%.2f%%).\" % (ITA_mort_neoplasm, (ITA_mort_neoplasm / ITA_mort) * 100))"
   ]
  },
  {
   "cell_type": "markdown",
   "metadata": {},
   "source": [
    "# Technical Report:\n",
    "- Considering the population structures in Australia and Italy, their populations and mortalities were compared. In 2010, Australia's population was 22,297,515 and the total number of deaths was 286,946. Among these deaths, 43,316 (15.10%) were due to neoplasms. Italy's population was 60,483,386 and the total number of deaths was 1,169,230. Among these deaths, 175,046 (14.97%) was due to neoplasms. Italy had roughly 4 times the population, deaths and deaths due to neoplasms compared to Australia, which is reflected in the similar percentage of deaths caused by cancers."
   ]
  },
  {
   "cell_type": "code",
   "execution_count": 45,
   "metadata": {
    "scrolled": false
   },
   "outputs": [
    {
     "data": {
      "image/png": "[encoded data removed]",
      "text/plain": [
       "<Figure size 864x576 with 1 Axes>"
      ]
     },
     "metadata": {},
     "output_type": "display_data"
    }
   ],
   "source": [
    "# all-neoplasm-cause distribution of death by age groups visualised as bars\n",
    "# combining deaths of age 0, 1, 2, 3 and 4 to match other age bands' size\n",
    "AUS_neoplasm_2010[\"Deaths2_6\"] = AUS_neoplasm_2010[\"Deaths2\"] + AUS_neoplasm_2010[\"Deaths3\"] + AUS_neoplasm_2010[\"Deaths4\"] +\\\n",
    "    AUS_neoplasm_2010[\"Deaths5\"] + AUS_neoplasm_2010[\"Deaths6\"]\n",
    "ITA_neoplasm_2010[\"Deaths2_6\"] = ITA_neoplasm_2010[\"Deaths2\"] + ITA_neoplasm_2010[\"Deaths3\"] + ITA_neoplasm_2010[\"Deaths4\"] +\\\n",
    "    ITA_neoplasm_2010[\"Deaths5\"] + ITA_neoplasm_2010[\"Deaths6\"]\n",
    "\n",
    "# creating lists of all sums of neoplasm deaths by age groups\n",
    "height2_AUS = [AUS_neoplasm_2010.loc[\"Total_deaths\", \"Deaths2_6\"]] # start by age 0-4\n",
    "height2_AUS.extend(list(AUS_neoplasm_2010.iloc[-1, 7:26])) # final row is sum for each age group\n",
    "\n",
    "height2_ITA = [ITA_neoplasm_2010.loc[\"Total_deaths\", \"Deaths2_6\"]] # start by age 0-4\n",
    "height2_ITA.extend(list(ITA_neoplasm_2010.iloc[-1, 7:26])) # final row is sum for each age group\n",
    "tick_label = [\"0-4\", \"5-9\", \"10-14\", \"15-19\", \"20-24\", \"25-29\", \"30-34\", \"35-39\", \"40-44\", \"45-49\", \"50-54\", \"55-59\", \\\n",
    "              \"60-64\", \"65-69\", \"70-74\", \"75-79\", \"80-84\", \"85-89\", \"90-94\", \"95+\"]\n",
    "\n",
    "# inititate plot\n",
    "fig3, ax = plt.subplots(figsize=(12, 8))\n",
    "\n",
    "x = np.arange(20) # to specify 20 slots of age groups\n",
    "\n",
    "plt1 = ax.bar(x, height2_AUS / AUS_mort_neoplasm * 100, 0.3, color=\"skyblue\") # Australia bars\n",
    "plt2 = ax.bar(x + 0.3, height2_ITA / ITA_mort_neoplasm * 100, 0.3, color=\"hotpink\") # Italy bars shifted by 0.3 to the right\n",
    "\n",
    "ax.set_title(\"2010 all neoplasm cause of deaths in Australia and Italy by age groups\", fontsize=20)\n",
    "ax.set_xticks(x + 0.3 / 2)\n",
    "ax.set_xticklabels(tick_label)\n",
    "ax.set_xlabel(\"age groups (years)\")\n",
    "ax.set_ylabel(\"percentage of total deaths (%)\")\n",
    "\n",
    "ax.legend((plt1[0], plt2[0]), (\"Australia\", \"Italy\"), fontsize=15)\n",
    "ax.autoscale_view()\n",
    "\n",
    "plt.grid(axis=\"y\", linestyle=\"--\")\n",
    "plt.show()"
   ]
  },
  {
   "cell_type": "markdown",
   "metadata": {},
   "source": [
    "# Technical Report:\n",
    "- To compare their distributions by age groups, a bar chart can be used. However, since the overall number of deaths by neoplasms in Italy was about 4 times of Australia’s, it would be difficult to directly compare the distribution by age groups side-by-side. Instead, the proportions of total neoplasm deaths contributed by each age group were used instead for the ease of interpretation. As observed from the chart, both distributions have a similar shape with most deaths concentrated in older age groups. The relative proportions of each age groups are roughly the same for both countries. However, a slightly higher percentage is consistently observed for Australia from age group 0-4 up to 65-69 years old, which suggests more cancer deaths at younger ages in Australia than in Italy in 2010. In contrast, Italy has higher percentages of deaths in people aged 70 to 89."
   ]
  },
  {
   "cell_type": "code",
   "execution_count": 46,
   "metadata": {},
   "outputs": [
    {
     "name": "stdout",
     "output_type": "stream",
     "text": [
      "    Cause  Deaths1  Proportion\n",
      "0    C349     7989    0.184435\n",
      "1     C61     3236    0.074707\n",
      "2    C509     2865    0.066142\n",
      "3    C809     2783    0.064249\n",
      "4    C259     2367    0.054645\n",
      "5  others    24076    0.555822\n"
     ]
    }
   ],
   "source": [
    "# top 5 neoplasms causes of death in Australia in 2010\n",
    "AUS_neoplasm_2010[\"Proportion\"] = AUS_neoplasm_2010[\"Deaths1\"] / AUS_mort_neoplasm\n",
    "AUS_top5_2010 = AUS_neoplasm_2010.loc[:, [\"Cause\", \"Deaths1\", \"Proportion\"]].iloc[:-1, :]\\\n",
    "    .sort_values(by=[\"Proportion\"], ascending=False).iloc[:5, ] #excluded Total_deaths row\n",
    "AUS_top5_2010.reset_index(drop=True, inplace=True)\n",
    "AUS_top5_2010[\"Deaths1\"] = AUS_top5_2010.Deaths1.astype(int)\n",
    "AUS_other_deaths_2010 = AUS_mort_neoplasm - AUS_top5_2010.Deaths1.sum()\n",
    "AUS_other_proportion_2010 = 1 - AUS_top5_2010.Proportion.sum()\n",
    "AUS_top5_2010.loc[5] = [\"others\", AUS_other_deaths_2010, AUS_other_proportion_2010]\n",
    "print(AUS_top5_2010)\n",
    "\n",
    "#  C34.9 Malignant neoplasm: Bronchus or lung, unspecified  \n",
    "#  C61   Malignant neoplasm of prostate  \n",
    "#  C50.9 Malignant neoplasm: Breast, unspecified  \n",
    "#  C80.9 Malignant neoplasm, primary site unspecified  !!!!!\n",
    "#  C25.9 Malignant neoplasm: Pancreas, unspecified  "
   ]
  },
  {
   "cell_type": "code",
   "execution_count": 47,
   "metadata": {},
   "outputs": [
    {
     "name": "stdout",
     "output_type": "stream",
     "text": [
      "    Cause  Deaths1  Proportion\n",
      "0    C349    33416    0.190898\n",
      "1    C509    12231    0.069873\n",
      "2    C189    11638    0.066485\n",
      "3    C259     9683    0.055317\n",
      "4    C169     9523    0.054403\n",
      "5  others    98555    0.563023\n"
     ]
    }
   ],
   "source": [
    "# top 5 neoplasms causes of death in Italy in 2010\n",
    "ITA_neoplasm_2010[\"Proportion\"] = ITA_neoplasm_2010[\"Deaths1\"] / ITA_mort_neoplasm\n",
    "ITA_top5_2010 = ITA_neoplasm_2010.loc[:, [\"Cause\", \"Deaths1\", \"Proportion\"]].iloc[:-1, :]\\\n",
    "    .sort_values(by=[\"Proportion\"], ascending=False).iloc[:5, ] #excluded Total_deaths row\n",
    "ITA_top5_2010.reset_index(drop=True, inplace=True)\n",
    "ITA_top5_2010[\"Deaths1\"] = ITA_top5_2010.Deaths1.astype(int)\n",
    "ITA_other_deaths_2010 = ITA_mort_neoplasm - ITA_top5_2010.Deaths1.sum()\n",
    "ITA_other_proportion_2010 = 1 - ITA_top5_2010.Proportion.sum()\n",
    "ITA_top5_2010.loc[5] = [\"others\", ITA_other_deaths_2010, ITA_other_proportion_2010]\n",
    "print(ITA_top5_2010)\n",
    "\n",
    "#  C34.9 Malignant neoplasm: Bronchus or lung, unspecified  \n",
    "#  C50.9 Malignant neoplasm: Breast, unspecified  \n",
    "#  C18.9 Malignant neoplasm: Colon, unspecified  \n",
    "#  C25.9 Malignant neoplasm: Pancreas, unspecified  \n",
    "#  C16.9 Malignant neoplasm: Stomach, unspecified  "
   ]
  },
  {
   "cell_type": "code",
   "execution_count": 48,
   "metadata": {},
   "outputs": [
    {
     "data": {
      "image/png": "[encoded data removed]",
      "text/plain": [
       "<Figure size 1224x576 with 2 Axes>"
      ]
     },
     "metadata": {},
     "output_type": "display_data"
    }
   ],
   "source": [
    "# visualising the data above\n",
    "neoplasm1 = [\"Bronchus or Lung, unspecified\", \"Prostate, unspecified\", \"Breast, unspecified\",\\\n",
    "             \"Primary site unknown, unspecified\", \"Pancreas, unspecified\", \"Others\"]\n",
    "neoplasm2 = [\"Bronchus or Lung, unspecified\", \"Breast, unspecified\", \"Colon, unspecified\", \"Pancreas, unspecified\",\\\n",
    "             \"Stomach, unspecified\", \"Others\"]\n",
    "colours1 = [\"skyblue\", \"chocolate\", \"mediumspringgreen\", \"lavenderblush\", \"gold\", \"lightgrey\"]\n",
    "colours2 = [\"skyblue\", \"mediumspringgreen\", \"hotpink\", \"gold\", \"orchid\", \"lightgrey\"]\n",
    "\n",
    "fig2 = plt.figure(figsize=(17, 8)) #create a figure\n",
    "\n",
    "plt1 = fig2.add_subplot(121)\n",
    "plt2 = fig2.add_subplot(122)\n",
    "\n",
    "plt1.pie(AUS_top5_2010[\"Proportion\"], labels=neoplasm1, colors=colours1, startangle=90, counterclock=False, autopct=\"%1.1f%%\")\n",
    "plt1.set_title(\"Australia\", fontsize=20)\n",
    "\n",
    "plt2.pie(ITA_top5_2010[\"Proportion\"], labels=neoplasm2, colors=colours2, startangle=90, counterclock=False, autopct=\"%1.1f%%\")\n",
    "plt2.set_title(\"Italy\", fontsize=20)\n",
    "\n",
    "fig2.subplots_adjust(hspace=.2,wspace=.2)\n",
    "plt.show()"
   ]
  },
  {
   "cell_type": "markdown",
   "metadata": {},
   "source": [
    "# Technical Report:\n",
    "- Another perspective to look at the neoplasm cause of deaths in both countries is by the most frequent causes as recorded by ICD-10 terms. For Italy, the top 5 causes in 2010 are the same as when inspecting all years (2003-2015) with roughly the same proportions, except for a switch in rank of pancreas and stomach cancers. For Australia, the top 5 causes are C34.9 (Malignant neoplasm: Bronchus or lung, unspecified), C61 (Malignant neoplasm of prostate), C50.9 (Malignant neoplasm: Breast, unspecified), C80.9 (Malignant neoplasm, primary site unspecified) and C25.9 (Malignant neoplasm: Pancreas, unspecified) in descending order. While the top cause of bronchus and lung cancers is the same, the others are a bit different. Breast cancer and pancreas cancer are still on the list. The former has a slightly smaller proportion than Italy while the latter is about the same. Prostate cancer, which is not on Italy’s top 5, is the second largest neoplasm cause of death in Australia in 2010. Colon cancer and stomach cancer are not on the list for Australia. It would be interesting to see if genetics and diet have an effect here. The fourth largest cause in Australia is interestingly “primary site unknown, unspecified” which can be any type of cancers. The reason behind should be investigated. It is possible that in-depth coding of cancer deaths is not required in certain Australian clinical settings, there are mismatches between records and death registries, or there is information loss in the coding or conversion process."
   ]
  },
  {
   "cell_type": "markdown",
   "metadata": {},
   "source": [
    "End of Document"
   ]
  }
 ],
 "metadata": {
  "kernelspec": {
   "display_name": "Python 3",
   "language": "python",
   "name": "python3"
  },
  "language_info": {
   "codemirror_mode": {
    "name": "ipython",
    "version": 3
   },
   "file_extension": ".py",
   "mimetype": "text/x-python",
   "name": "python",
   "nbconvert_exporter": "python",
   "pygments_lexer": "ipython3",
   "version": "3.6.5"
  }
 },
 "nbformat": 4,
 "nbformat_minor": 2
}
